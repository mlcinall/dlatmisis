{
  "cells": [
    {
      "cell_type": "code",
      "execution_count": null,
      "id": "45ab16af",
      "metadata": {
        "id": "45ab16af"
      },
      "outputs": [],
      "source": [
        "# ! pip install torch torchvision torchaudio"
      ]
    },
    {
      "cell_type": "markdown",
      "id": "7e521abb",
      "metadata": {
        "id": "7e521abb"
      },
      "source": [
        "См. [здесь](https://pytorch.org/get-started/locally/), как установить PyTorch с поддержкой GPU для различных операционных систем."
      ]
    },
    {
      "cell_type": "markdown",
      "id": "a3675cff",
      "metadata": {
        "id": "a3675cff"
      },
      "source": [
        "### Проверяем, что все работает"
      ]
    },
    {
      "cell_type": "code",
      "execution_count": 62,
      "id": "43e9d1ff",
      "metadata": {
        "id": "43e9d1ff"
      },
      "outputs": [],
      "source": [
        "import torch"
      ]
    },
    {
      "cell_type": "code",
      "execution_count": 63,
      "id": "2bc05abf",
      "metadata": {
        "id": "2bc05abf",
        "colab": {
          "base_uri": "https://localhost:8080/"
        },
        "outputId": "9d7678b6-c93a-4c31-cf82-fcb6ba371135"
      },
      "outputs": [
        {
          "output_type": "stream",
          "name": "stdout",
          "text": [
            "tensor([1, 2, 3])\n"
          ]
        }
      ],
      "source": [
        "print(torch.tensor([1, 2, 3]))"
      ]
    },
    {
      "cell_type": "markdown",
      "id": "2038fe5e",
      "metadata": {
        "id": "2038fe5e"
      },
      "source": [
        "# Работа с основными объектами PyTorch\n",
        "\n",
        "Познакомимся с основными объектами в PyTorch: тензоры, оптимизаторы, модули для создания нейросетей, классы для работы с данными.\n",
        "\n",
        "## Тензоры\n",
        "\n",
        "По сути, тензоры - это многомерными массивами. Как вы увидите ниже, работа с тезорами в PyTorch очень похожа на работу с numpy-массивами."
      ]
    },
    {
      "cell_type": "code",
      "execution_count": null,
      "id": "b270d6d4",
      "metadata": {
        "id": "b270d6d4"
      },
      "outputs": [],
      "source": [
        "import torch"
      ]
    },
    {
      "cell_type": "markdown",
      "id": "818ac5f3",
      "metadata": {
        "id": "818ac5f3"
      },
      "source": [
        "### Создание тензоров\n",
        "\n",
        "Создать вектор из данных:"
      ]
    },
    {
      "cell_type": "code",
      "execution_count": 64,
      "id": "b97fbdaa",
      "metadata": {
        "id": "b97fbdaa",
        "colab": {
          "base_uri": "https://localhost:8080/"
        },
        "outputId": "ed649577-aa6a-4479-bd6c-689e17b93524"
      },
      "outputs": [
        {
          "output_type": "stream",
          "name": "stdout",
          "text": [
            "tensor([1.0000, 2.0000, 3.0000, 4.5000])\n"
          ]
        }
      ],
      "source": [
        "print(torch.tensor([1, 2, 3, 4.5]))"
      ]
    },
    {
      "cell_type": "markdown",
      "id": "edf43dc8",
      "metadata": {
        "id": "edf43dc8"
      },
      "source": [
        "Создать матрицу из данных:"
      ]
    },
    {
      "cell_type": "code",
      "execution_count": 65,
      "id": "22cf4be5",
      "metadata": {
        "id": "22cf4be5",
        "colab": {
          "base_uri": "https://localhost:8080/"
        },
        "outputId": "7d1aa741-635b-4e0f-c3f7-1872b3080f00"
      },
      "outputs": [
        {
          "output_type": "stream",
          "name": "stdout",
          "text": [
            "tensor([[1, 2, 3],\n",
            "        [4, 5, 6]])\n"
          ]
        }
      ],
      "source": [
        "print(torch.tensor([[1, 2, 3], [4, 5, 6]]))"
      ]
    },
    {
      "cell_type": "markdown",
      "id": "4ba33c55",
      "metadata": {
        "id": "4ba33c55"
      },
      "source": [
        "Создать случайную матрицу:"
      ]
    },
    {
      "cell_type": "code",
      "execution_count": 67,
      "id": "368b2e1d",
      "metadata": {
        "id": "368b2e1d",
        "colab": {
          "base_uri": "https://localhost:8080/"
        },
        "outputId": "ba32d086-d9b6-4f3b-ba1e-b90eac124459"
      },
      "outputs": [
        {
          "output_type": "stream",
          "name": "stdout",
          "text": [
            "tensor([[1., 1., 1., 1., 1., 1.],\n",
            "        [1., 1., 1., 1., 1., 1.],\n",
            "        [1., 1., 1., 1., 1., 1.],\n",
            "        [1., 1., 1., 1., 1., 1.],\n",
            "        [1., 1., 1., 1., 1., 1.]])\n"
          ]
        }
      ],
      "source": [
        "print(torch.rand(5, 6))"
      ]
    },
    {
      "cell_type": "markdown",
      "id": "c72022ab",
      "metadata": {
        "id": "c72022ab"
      },
      "source": [
        "Создать тензор чисел от 0 до 9 включительно:"
      ]
    },
    {
      "cell_type": "code",
      "execution_count": 69,
      "id": "a8b9d3c0",
      "metadata": {
        "scrolled": true,
        "id": "a8b9d3c0",
        "colab": {
          "base_uri": "https://localhost:8080/"
        },
        "outputId": "80d4967c-63c5-4847-ab34-5c83d5534d4b"
      },
      "outputs": [
        {
          "output_type": "stream",
          "name": "stdout",
          "text": [
            "tensor([[0, 1, 2, 3, 4],\n",
            "        [5, 6, 7, 8, 9]])\n"
          ]
        }
      ],
      "source": [
        "print(torch.arange(10).reshape(2, 5))"
      ]
    },
    {
      "cell_type": "markdown",
      "id": "f76e0569",
      "metadata": {
        "id": "f76e0569"
      },
      "source": [
        "### Атрибуты тензоров"
      ]
    },
    {
      "cell_type": "code",
      "execution_count": 70,
      "id": "53294328",
      "metadata": {
        "id": "53294328",
        "colab": {
          "base_uri": "https://localhost:8080/"
        },
        "outputId": "470be7ef-3afa-46bc-eb0a-7e6f937855f8"
      },
      "outputs": [
        {
          "output_type": "stream",
          "name": "stdout",
          "text": [
            "tensor([[1., 2., 3.],\n",
            "        [4., 5., 6.]])\n"
          ]
        }
      ],
      "source": [
        "a = torch.tensor([[1.0, 2, 3],\n",
        "                  [4, 5, 6]])\n",
        "print(a)"
      ]
    },
    {
      "cell_type": "markdown",
      "id": "dc0874a1",
      "metadata": {
        "id": "dc0874a1"
      },
      "source": [
        "Размерность:"
      ]
    },
    {
      "cell_type": "code",
      "execution_count": 71,
      "id": "f6405e51",
      "metadata": {
        "id": "f6405e51",
        "colab": {
          "base_uri": "https://localhost:8080/"
        },
        "outputId": "02990c01-e1c9-4951-a8a5-7783c2cf5173"
      },
      "outputs": [
        {
          "output_type": "stream",
          "name": "stdout",
          "text": [
            "torch.Size([2, 3])\n"
          ]
        }
      ],
      "source": [
        "print(a.shape)"
      ]
    },
    {
      "cell_type": "markdown",
      "id": "e1a67e76",
      "metadata": {
        "id": "e1a67e76"
      },
      "source": [
        "Тип данных:"
      ]
    },
    {
      "cell_type": "code",
      "execution_count": 72,
      "id": "ba67b957",
      "metadata": {
        "id": "ba67b957",
        "colab": {
          "base_uri": "https://localhost:8080/"
        },
        "outputId": "4295cdf9-77fa-4c50-9bf7-f850de44e360"
      },
      "outputs": [
        {
          "output_type": "stream",
          "name": "stdout",
          "text": [
            "torch.float32\n"
          ]
        }
      ],
      "source": [
        "print(a.dtype)"
      ]
    },
    {
      "cell_type": "markdown",
      "id": "e55af10f",
      "metadata": {
        "id": "e55af10f"
      },
      "source": [
        "Устройство, на котором расположен тензор:"
      ]
    },
    {
      "cell_type": "code",
      "execution_count": 75,
      "id": "810ff7f3",
      "metadata": {
        "id": "810ff7f3",
        "colab": {
          "base_uri": "https://localhost:8080/"
        },
        "outputId": "c5bc6608-cf29-481f-e818-e7cda7c7c8fd"
      },
      "outputs": [
        {
          "output_type": "stream",
          "name": "stdout",
          "text": [
            "cpu\n"
          ]
        },
        {
          "output_type": "execute_result",
          "data": {
            "text/plain": [
              "tensor(..., device='meta', size=(2, 3))"
            ]
          },
          "metadata": {},
          "execution_count": 75
        }
      ],
      "source": [
        "print(a.device)\n",
        "\n",
        "a.to('meta')"
      ]
    },
    {
      "cell_type": "markdown",
      "id": "8fa26a05",
      "metadata": {
        "id": "8fa26a05"
      },
      "source": [
        "### Преобразования тензоров"
      ]
    },
    {
      "cell_type": "code",
      "execution_count": null,
      "id": "e1a088e6",
      "metadata": {
        "id": "e1a088e6",
        "colab": {
          "base_uri": "https://localhost:8080/"
        },
        "outputId": "44cf7b8b-ae8c-47c7-bb5c-16276d86d437"
      },
      "outputs": [
        {
          "output_type": "stream",
          "name": "stdout",
          "text": [
            "tensor([[0.1171, 0.8863, 0.0446, 0.2192, 0.6411, 0.4948],\n",
            "        [0.8207, 0.9852, 0.5989, 0.0891, 0.8761, 0.1901]])\n"
          ]
        }
      ],
      "source": [
        "A = torch.rand(2, 6)\n",
        "print(A)"
      ]
    },
    {
      "cell_type": "markdown",
      "id": "2aef0e20",
      "metadata": {
        "id": "2aef0e20"
      },
      "source": [
        "Изменить размерность тензора:"
      ]
    },
    {
      "cell_type": "code",
      "execution_count": null,
      "id": "db3e4a97",
      "metadata": {
        "id": "db3e4a97",
        "colab": {
          "base_uri": "https://localhost:8080/"
        },
        "outputId": "f3b2e578-c7ef-42f9-f088-d8d704bbc655"
      },
      "outputs": [
        {
          "output_type": "stream",
          "name": "stdout",
          "text": [
            "tensor([[0.1171, 0.8863, 0.0446, 0.2192],\n",
            "        [0.6411, 0.4948, 0.8207, 0.9852],\n",
            "        [0.5989, 0.0891, 0.8761, 0.1901]])\n"
          ]
        }
      ],
      "source": [
        "print(A.reshape(3, 4))"
      ]
    },
    {
      "cell_type": "markdown",
      "id": "cd6a79e1",
      "metadata": {
        "id": "cd6a79e1"
      },
      "source": [
        "Превратить тензор в одномерный массив:"
      ]
    },
    {
      "cell_type": "code",
      "execution_count": null,
      "id": "1a89ad3d",
      "metadata": {
        "id": "1a89ad3d",
        "colab": {
          "base_uri": "https://localhost:8080/"
        },
        "outputId": "d9c89825-2f04-473a-fe3b-82ce7070edf6"
      },
      "outputs": [
        {
          "output_type": "stream",
          "name": "stdout",
          "text": [
            "tensor([0.1171, 0.8863, 0.0446, 0.2192, 0.6411, 0.4948, 0.8207, 0.9852, 0.5989,\n",
            "        0.0891, 0.8761, 0.1901])\n"
          ]
        }
      ],
      "source": [
        "print(A.flatten())"
      ]
    },
    {
      "cell_type": "markdown",
      "id": "322cdbf8",
      "metadata": {
        "id": "322cdbf8"
      },
      "source": [
        "Транспонировать матрицу:"
      ]
    },
    {
      "cell_type": "code",
      "execution_count": null,
      "id": "a7a772fe",
      "metadata": {
        "id": "a7a772fe",
        "colab": {
          "base_uri": "https://localhost:8080/"
        },
        "outputId": "283cbf99-0026-4a51-ff43-11a21166a92b"
      },
      "outputs": [
        {
          "output_type": "stream",
          "name": "stdout",
          "text": [
            "tensor([[0.1171, 0.8207],\n",
            "        [0.8863, 0.9852],\n",
            "        [0.0446, 0.5989],\n",
            "        [0.2192, 0.0891],\n",
            "        [0.6411, 0.8761],\n",
            "        [0.4948, 0.1901]])\n"
          ]
        }
      ],
      "source": [
        "print(A.T)"
      ]
    },
    {
      "cell_type": "markdown",
      "id": "f815cae3",
      "metadata": {
        "id": "f815cae3"
      },
      "source": [
        "Для тензоров более высокой размерности нужно указать, какие измерения переставить."
      ]
    },
    {
      "cell_type": "code",
      "execution_count": null,
      "id": "d80e215b",
      "metadata": {
        "id": "d80e215b",
        "colab": {
          "base_uri": "https://localhost:8080/"
        },
        "outputId": "e6bdc49c-e543-4bee-b848-248fef46d71c"
      },
      "outputs": [
        {
          "output_type": "stream",
          "name": "stdout",
          "text": [
            "tensor([[0.1171, 0.8207],\n",
            "        [0.8863, 0.9852],\n",
            "        [0.0446, 0.5989],\n",
            "        [0.2192, 0.0891],\n",
            "        [0.6411, 0.8761],\n",
            "        [0.4948, 0.1901]])\n"
          ]
        }
      ],
      "source": [
        "print(A.transpose(0, 1))"
      ]
    },
    {
      "cell_type": "markdown",
      "id": "b3a10b46",
      "metadata": {
        "id": "b3a10b46"
      },
      "source": [
        "### Операции с тензорами одинаковой размерности"
      ]
    },
    {
      "cell_type": "code",
      "execution_count": null,
      "id": "be7296f0",
      "metadata": {
        "id": "be7296f0",
        "colab": {
          "base_uri": "https://localhost:8080/"
        },
        "outputId": "addda3d4-0454-47af-d49d-b94ecc45a972"
      },
      "outputs": [
        {
          "output_type": "stream",
          "name": "stdout",
          "text": [
            "tensor([1, 2, 3])\n",
            "tensor([-1,  0,  1])\n",
            "tensor([[ 0,  1,  2],\n",
            "        [-1,  0,  1]])\n",
            "tensor([[1, 2, 3],\n",
            "        [7, 0, 5]])\n"
          ]
        }
      ],
      "source": [
        "a = torch.tensor([1, 2, 3])\n",
        "b = torch.tensor([-1, 0, 1])\n",
        "A = torch.tensor([[ 0, 1, 2],\n",
        "                  [-1, 0, 1]])\n",
        "B = torch.tensor([[1, 2, 3],\n",
        "                  [7, 0, 5]])\n",
        "print(a)\n",
        "print(b)\n",
        "print(A)\n",
        "print(B)"
      ]
    },
    {
      "cell_type": "markdown",
      "id": "97123f2b",
      "metadata": {
        "id": "97123f2b"
      },
      "source": [
        "Покомпонентное сложение:"
      ]
    },
    {
      "cell_type": "code",
      "execution_count": null,
      "id": "b5c13c50",
      "metadata": {
        "id": "b5c13c50",
        "colab": {
          "base_uri": "https://localhost:8080/"
        },
        "outputId": "1698828b-35b5-4ab3-8c32-331bdec58bae"
      },
      "outputs": [
        {
          "output_type": "stream",
          "name": "stdout",
          "text": [
            "tensor([0, 2, 4])\n",
            "tensor([[1, 3, 5],\n",
            "        [6, 0, 6]])\n"
          ]
        }
      ],
      "source": [
        "print(a + b)\n",
        "print(A + B)"
      ]
    },
    {
      "cell_type": "markdown",
      "id": "5e688d70",
      "metadata": {
        "id": "5e688d70"
      },
      "source": [
        "Покомпонентное умножение:"
      ]
    },
    {
      "cell_type": "code",
      "execution_count": null,
      "id": "7ae954bb",
      "metadata": {
        "id": "7ae954bb",
        "colab": {
          "base_uri": "https://localhost:8080/"
        },
        "outputId": "3db05fe7-efb5-4444-d10b-0476fcfc1d2c"
      },
      "outputs": [
        {
          "output_type": "stream",
          "name": "stdout",
          "text": [
            "tensor([-1,  0,  3])\n",
            "tensor([[ 0,  2,  6],\n",
            "        [-7,  0,  5]])\n"
          ]
        }
      ],
      "source": [
        "print(a * b)\n",
        "print(A * B)"
      ]
    },
    {
      "cell_type": "markdown",
      "id": "4abaf735",
      "metadata": {
        "id": "4abaf735"
      },
      "source": [
        "Покомпонентное возведение в степень:"
      ]
    },
    {
      "cell_type": "code",
      "execution_count": null,
      "id": "cbcdfea2",
      "metadata": {
        "id": "cbcdfea2",
        "colab": {
          "base_uri": "https://localhost:8080/"
        },
        "outputId": "6809bc20-4060-4cc6-bd9c-f305d67f348b"
      },
      "outputs": [
        {
          "output_type": "stream",
          "name": "stdout",
          "text": [
            "tensor([1, 1, 3])\n",
            "tensor([[ 0,  2,  6],\n",
            "        [-7,  0,  5]])\n"
          ]
        }
      ],
      "source": [
        "print(a**b)\n",
        "print(A * B)"
      ]
    },
    {
      "cell_type": "markdown",
      "id": "2a93d522",
      "metadata": {
        "id": "2a93d522"
      },
      "source": [
        "Скалярное произведение:"
      ]
    },
    {
      "cell_type": "code",
      "execution_count": null,
      "id": "6123c855",
      "metadata": {
        "id": "6123c855",
        "colab": {
          "base_uri": "https://localhost:8080/"
        },
        "outputId": "9ac9f271-e82e-43ed-fc7f-8d79e91bcfa4"
      },
      "outputs": [
        {
          "output_type": "stream",
          "name": "stdout",
          "text": [
            "tensor(2)\n"
          ]
        }
      ],
      "source": [
        "print(a @ b)"
      ]
    },
    {
      "cell_type": "markdown",
      "id": "5feb873c",
      "metadata": {
        "id": "5feb873c"
      },
      "source": [
        "Умножение матрицы на вектор:"
      ]
    },
    {
      "cell_type": "code",
      "execution_count": null,
      "id": "439af96f",
      "metadata": {
        "id": "439af96f",
        "colab": {
          "base_uri": "https://localhost:8080/"
        },
        "outputId": "6cdcdc33-a410-4993-b854-c9611b10f810"
      },
      "outputs": [
        {
          "output_type": "stream",
          "name": "stdout",
          "text": [
            "tensor([8, 2])\n"
          ]
        }
      ],
      "source": [
        "print(A @ a)"
      ]
    },
    {
      "cell_type": "markdown",
      "id": "8bb2a1cb",
      "metadata": {
        "id": "8bb2a1cb"
      },
      "source": [
        "### Операции с тензорами разной размерности"
      ]
    },
    {
      "cell_type": "code",
      "execution_count": null,
      "id": "88d05930",
      "metadata": {
        "id": "88d05930",
        "colab": {
          "base_uri": "https://localhost:8080/"
        },
        "outputId": "747946ce-44c0-4b6c-ad60-c87fdd9c8e3a"
      },
      "outputs": [
        {
          "output_type": "stream",
          "name": "stdout",
          "text": [
            "tensor([[1, 2, 3],\n",
            "        [4, 5, 6]])\n",
            "tensor([0, 1, 2])\n",
            "tensor([[0],\n",
            "        [1]])\n"
          ]
        }
      ],
      "source": [
        "A = torch.tensor([[1, 2, 3],\n",
        "                  [4, 5, 6]])\n",
        "v_row = torch.tensor([0, 1, 2])\n",
        "v_col = torch.tensor([[0], [1]])\n",
        "print(A)\n",
        "print(v_row)\n",
        "print(v_col)"
      ]
    },
    {
      "cell_type": "markdown",
      "id": "db359785",
      "metadata": {
        "id": "db359785"
      },
      "source": [
        "Прибавить к каждой строке матрицы один и тот же вектор:"
      ]
    },
    {
      "cell_type": "code",
      "execution_count": null,
      "id": "770050fd",
      "metadata": {
        "id": "770050fd",
        "colab": {
          "base_uri": "https://localhost:8080/"
        },
        "outputId": "c50e79ae-6505-48af-9e04-bf27f3eeead3"
      },
      "outputs": [
        {
          "output_type": "stream",
          "name": "stdout",
          "text": [
            "tensor([[1, 3, 5],\n",
            "        [4, 6, 8]])\n"
          ]
        }
      ],
      "source": [
        "print(A + v_row)"
      ]
    },
    {
      "cell_type": "markdown",
      "id": "2f127ba5",
      "metadata": {
        "id": "2f127ba5"
      },
      "source": [
        "Прибавить к каждому столбцу матрицы один и тот же вектор:"
      ]
    },
    {
      "cell_type": "code",
      "execution_count": null,
      "id": "6eaf3f3d",
      "metadata": {
        "id": "6eaf3f3d",
        "colab": {
          "base_uri": "https://localhost:8080/"
        },
        "outputId": "6aeb79a1-f3b1-4215-f04d-6037bc2e710e"
      },
      "outputs": [
        {
          "output_type": "stream",
          "name": "stdout",
          "text": [
            "tensor([[1, 2, 3],\n",
            "        [5, 6, 7]])\n"
          ]
        }
      ],
      "source": [
        "print(A + v_col)"
      ]
    },
    {
      "cell_type": "markdown",
      "id": "e34f4c6d",
      "metadata": {
        "id": "e34f4c6d"
      },
      "source": [
        "Это частные случаи [broadcasting](https://numpy.org/doc/stable/user/basics.broadcasting.html)"
      ]
    },
    {
      "cell_type": "markdown",
      "id": "22cb78cf",
      "metadata": {
        "id": "22cb78cf"
      },
      "source": [
        "### Автоматическое дифференцирование\n",
        "\n",
        "![image](img/forward_backward.svg)"
      ]
    },
    {
      "cell_type": "code",
      "execution_count": 102,
      "id": "173bfe22",
      "metadata": {
        "id": "173bfe22",
        "colab": {
          "base_uri": "https://localhost:8080/"
        },
        "outputId": "2ef0f4e3-ea33-4a40-b977-efc3110e46f4"
      },
      "outputs": [
        {
          "output_type": "stream",
          "name": "stdout",
          "text": [
            "tensor([-1.,  3., -3.], requires_grad=True)\n",
            "tensor([0., 1., 2.])\n",
            "tensor(30., grad_fn=<SumBackward0>)\n"
          ]
        }
      ],
      "source": [
        "x = torch.tensor([-1.0, 3.0, -3.0], requires_grad=True)\n",
        "c = torch.tensor([0.0, 1.0, 2.0], requires_grad=False)\n",
        "L = torch.sum((x - c)**2)\n",
        "print(x)\n",
        "print(c)\n",
        "print(L)"
      ]
    },
    {
      "cell_type": "markdown",
      "id": "48f176c0",
      "metadata": {
        "id": "48f176c0"
      },
      "source": [
        "Считаем градиент переменной `L` по параметрам `x`:"
      ]
    },
    {
      "cell_type": "code",
      "execution_count": 103,
      "id": "9c6aba70",
      "metadata": {
        "id": "9c6aba70"
      },
      "outputs": [],
      "source": [
        "L.backward()"
      ]
    },
    {
      "cell_type": "markdown",
      "id": "9306bff8",
      "metadata": {
        "id": "9306bff8"
      },
      "source": [
        "Градиент по `x`:"
      ]
    },
    {
      "cell_type": "code",
      "execution_count": 104,
      "id": "98486a6b",
      "metadata": {
        "id": "98486a6b",
        "colab": {
          "base_uri": "https://localhost:8080/"
        },
        "outputId": "7ceea83f-5ae0-4311-8c12-56032f9f4bfd"
      },
      "outputs": [
        {
          "output_type": "stream",
          "name": "stdout",
          "text": [
            "tensor([ -2.,   4., -10.])\n"
          ]
        }
      ],
      "source": [
        "print(x.grad)"
      ]
    },
    {
      "cell_type": "markdown",
      "id": "a7281fe8",
      "metadata": {
        "id": "a7281fe8"
      },
      "source": [
        "Минимизируем `L` методом [градиентного спуска](https://en.wikipedia.org/wiki/Gradient_descent):"
      ]
    },
    {
      "cell_type": "code",
      "execution_count": 106,
      "id": "256b7f29",
      "metadata": {
        "id": "256b7f29",
        "colab": {
          "base_uri": "https://localhost:8080/"
        },
        "outputId": "76503967-b1fc-499f-b00e-dbe2574a72b3"
      },
      "outputs": [
        {
          "output_type": "stream",
          "name": "stdout",
          "text": [
            "tensor(2.4158e-13, grad_fn=<SumBackward0>) tensor([3.7537e-11, 1.0000e+00, 2.0000e+00], requires_grad=True)\n"
          ]
        }
      ],
      "source": [
        "optimizer = torch.optim.SGD(params=[x], lr=0.1)\n",
        "\n",
        "for _ in range(100):\n",
        "    optimizer.zero_grad()\n",
        "    L = torch.sum((x - c)**2)\n",
        "    L.backward()\n",
        "    optimizer.step()\n",
        "\n",
        "L = torch.sum((x - c)**2)\n",
        "\n",
        "print(L, x)"
      ]
    },
    {
      "cell_type": "markdown",
      "id": "3465e345",
      "metadata": {
        "id": "3465e345"
      },
      "source": [
        "### Упражнение\n",
        "\n",
        "Найти градиент функции\n",
        "\n",
        "$$\n",
        "f(x) = (Ax - b)^2\n",
        "$$\n",
        "\n",
        "в точке $x_0 = (1, -1, 0)$, где\n",
        "\n",
        "$$\n",
        "A = \\begin{pmatrix}\n",
        "0 & 3 & -1\\\\\n",
        "-2 & 2 & 6\n",
        "\\end{pmatrix},\n",
        "$$\n",
        "\n",
        "$$\n",
        "b = \\begin{pmatrix}\n",
        "-1 \\\\\n",
        "2\n",
        "\\end{pmatrix}.\n",
        "$$\n",
        "\n",
        "Минимизируйте $f$ методом градиентного спуска, укажите полученное значение $x$ и соответствующее значение $f(x)$."
      ]
    },
    {
      "cell_type": "code",
      "execution_count": null,
      "id": "12f31a40",
      "metadata": {
        "id": "12f31a40",
        "colab": {
          "base_uri": "https://localhost:8080/"
        },
        "outputId": "f981a485-364e-4e7b-d6ea-d856b5f2f31f"
      },
      "outputs": [
        {
          "output_type": "stream",
          "name": "stdout",
          "text": [
            "tensor([ 24., -36., -68.])\n"
          ]
        }
      ],
      "source": []
    },
    {
      "cell_type": "code",
      "execution_count": null,
      "id": "ad1b50de",
      "metadata": {
        "id": "ad1b50de",
        "colab": {
          "base_uri": "https://localhost:8080/"
        },
        "outputId": "df098be1-5a45-4c0e-9b6f-d76b91b58ea1"
      },
      "outputs": [
        {
          "output_type": "stream",
          "name": "stdout",
          "text": [
            "tensor(1.4211e-14, grad_fn=<SumBackward0>) tensor([ 0.7273, -0.1273,  0.6182], requires_grad=True)\n"
          ]
        }
      ],
      "source": []
    },
    {
      "cell_type": "markdown",
      "id": "800c95a9",
      "metadata": {
        "id": "800c95a9"
      },
      "source": [
        "# Работа с torch.nn\n",
        "\n",
        "В `torch.nn` содержатся компоненты для создания нейросетей (слои, функции потерь, ...)."
      ]
    },
    {
      "cell_type": "code",
      "execution_count": null,
      "id": "52a3b629",
      "metadata": {
        "id": "52a3b629"
      },
      "outputs": [],
      "source": [
        "import torch.nn as nn"
      ]
    },
    {
      "cell_type": "markdown",
      "id": "6b62a076",
      "metadata": {
        "id": "6b62a076"
      },
      "source": [
        "Линейный слой:"
      ]
    },
    {
      "cell_type": "code",
      "execution_count": null,
      "id": "354bd4fb",
      "metadata": {
        "id": "354bd4fb",
        "colab": {
          "base_uri": "https://localhost:8080/"
        },
        "outputId": "bba5cb23-46c7-41d8-e4ac-2fd42908896b"
      },
      "outputs": [
        {
          "output_type": "stream",
          "name": "stdout",
          "text": [
            "tensor([[-0.9284,  0.5816, -0.7882],\n",
            "        [ 0.5818, -0.2041, -0.9308]], grad_fn=<AddmmBackward0>)\n"
          ]
        }
      ],
      "source": [
        "layer = nn.Linear(5, 3)\n",
        "print(layer(torch.randn(2, 5)))"
      ]
    },
    {
      "cell_type": "markdown",
      "id": "f54c02cc",
      "metadata": {
        "id": "f54c02cc"
      },
      "source": [
        "Функция активации `ReLU`:"
      ]
    },
    {
      "cell_type": "code",
      "execution_count": null,
      "id": "4e670b12",
      "metadata": {
        "id": "4e670b12",
        "colab": {
          "base_uri": "https://localhost:8080/"
        },
        "outputId": "4ec1f314-373e-4151-a5d7-c415d153391c"
      },
      "outputs": [
        {
          "output_type": "stream",
          "name": "stdout",
          "text": [
            "tensor([[0., 1., 2., 3., 0.]])\n"
          ]
        }
      ],
      "source": [
        "layer = nn.ReLU()\n",
        "print(layer(torch.tensor([[-1.0, 1.0, 2.0, 3.0, -5.0]])))"
      ]
    },
    {
      "cell_type": "markdown",
      "id": "41cb32a0",
      "metadata": {
        "id": "41cb32a0"
      },
      "source": [
        "Слой `Dropout`:"
      ]
    },
    {
      "cell_type": "code",
      "execution_count": 112,
      "id": "8f9a3439",
      "metadata": {
        "id": "8f9a3439",
        "colab": {
          "base_uri": "https://localhost:8080/"
        },
        "outputId": "129bbc5e-b9b7-42cf-d329-d2adde6e95e5"
      },
      "outputs": [
        {
          "output_type": "stream",
          "name": "stdout",
          "text": [
            "tensor([[20.,  0.,  0.,  0., 28., 30., 32.,  0., 36., 38., 40.]])\n"
          ]
        }
      ],
      "source": [
        "layer = nn.Dropout(0.5)\n",
        "print(layer(torch.tensor([[10, 11, 12, 13, 14, 15, 16, 17, 18, 19, 20]], dtype=torch.float)))"
      ]
    },
    {
      "cell_type": "markdown",
      "id": "6f50c93b",
      "metadata": {
        "id": "6f50c93b"
      },
      "source": [
        "Объединяем всё в один пайплайн:"
      ]
    },
    {
      "cell_type": "code",
      "execution_count": null,
      "id": "ba774f61",
      "metadata": {
        "id": "ba774f61",
        "colab": {
          "base_uri": "https://localhost:8080/"
        },
        "outputId": "6e7a2f7e-9801-4c7c-9245-2d2acd88639d"
      },
      "outputs": [
        {
          "output_type": "stream",
          "name": "stdout",
          "text": [
            "tensor([[0.0000, 0.0000, 0.2690],\n",
            "        [0.0000, 0.0000, 0.3268]], grad_fn=<MulBackward0>)\n"
          ]
        }
      ],
      "source": [
        "layer = nn.Sequential(\n",
        "    nn.Linear(5, 3),\n",
        "    nn.ReLU(),\n",
        "    nn.Dropout(0.5)\n",
        ")\n",
        "print(layer(torch.randn((2, 5))))"
      ]
    },
    {
      "cell_type": "markdown",
      "id": "a9cc0110",
      "metadata": {
        "id": "a9cc0110"
      },
      "source": [
        "Реализовать свой модуль можно следующим образом:\n",
        "1) Создать производный от `nn.Module` класс.\n",
        "2) В методе `__init__` вызвать этот же метод базового класса и определить необходимые элементы.\n",
        "3) Определить метод `forward` (вычисление итогового результата).\n",
        "\n",
        "Для примера создадим простую нейросеть, решающую задачу регрессии."
      ]
    },
    {
      "cell_type": "code",
      "execution_count": null,
      "id": "fb9e147e",
      "metadata": {
        "id": "fb9e147e"
      },
      "outputs": [],
      "source": [
        "class RegressionModel(nn.Module):\n",
        "    def __init__(self, n_inputs):\n",
        "        super().__init__()\n",
        "        self.model = nn.Sequential(\n",
        "            nn.Linear(n_inputs, 128),\n",
        "            nn.ReLU(),\n",
        "            nn.Dropout(0.5),\n",
        "            nn.Linear(128, 64),\n",
        "            nn.ReLU(),\n",
        "            nn.Dropout(0.5),\n",
        "            nn.Linear(64, 1)\n",
        "        )\n",
        "\n",
        "    def forward(self, x):\n",
        "        res = self.model(x)\n",
        "        return res"
      ]
    },
    {
      "cell_type": "markdown",
      "id": "5f5bd5b0",
      "metadata": {
        "id": "5f5bd5b0"
      },
      "source": [
        "Создаем нейросеть со случайно инициализированными весами:"
      ]
    },
    {
      "cell_type": "code",
      "execution_count": 113,
      "id": "1a7c4080",
      "metadata": {
        "id": "1a7c4080",
        "colab": {
          "base_uri": "https://localhost:8080/"
        },
        "outputId": "41358f25-93fd-45ef-8f52-0d87fadd4c2f"
      },
      "outputs": [
        {
          "output_type": "stream",
          "name": "stdout",
          "text": [
            "RegressionModel(\n",
            "  (model): Sequential(\n",
            "    (0): Linear(in_features=3, out_features=128, bias=True)\n",
            "    (1): ReLU()\n",
            "    (2): Dropout(p=0.5, inplace=False)\n",
            "    (3): Linear(in_features=128, out_features=64, bias=True)\n",
            "    (4): ReLU()\n",
            "    (5): Dropout(p=0.5, inplace=False)\n",
            "    (6): Linear(in_features=64, out_features=1, bias=True)\n",
            "  )\n",
            ")\n"
          ]
        }
      ],
      "source": [
        "model = RegressionModel(n_inputs=3)\n",
        "print(model)"
      ]
    },
    {
      "cell_type": "markdown",
      "id": "761daf51",
      "metadata": {
        "id": "761daf51"
      },
      "source": [
        "Применяем нейросеть к случайным входам:"
      ]
    },
    {
      "cell_type": "code",
      "execution_count": 114,
      "id": "ed9afc38",
      "metadata": {
        "id": "ed9afc38",
        "colab": {
          "base_uri": "https://localhost:8080/"
        },
        "outputId": "5c4f2c26-693c-416a-93d7-399e200ed6c6"
      },
      "outputs": [
        {
          "output_type": "stream",
          "name": "stdout",
          "text": [
            "tensor([[ 0.5277, -0.1454, -1.2570],\n",
            "        [ 0.4603,  0.2929, -0.9040],\n",
            "        [ 3.0752,  2.2212, -0.7921],\n",
            "        [ 0.1431,  0.1196,  0.1512],\n",
            "        [-0.4875, -1.0465, -1.5815],\n",
            "        [ 0.1947, -0.1793,  0.6254],\n",
            "        [-0.4938, -0.2869,  1.1564],\n",
            "        [ 1.1438, -1.2116,  0.6960],\n",
            "        [-0.9580, -0.0296, -0.0765],\n",
            "        [ 0.6090,  0.8991, -1.5046],\n",
            "        [ 1.0583,  0.5592,  1.4971],\n",
            "        [ 0.1307,  0.6695, -0.0471],\n",
            "        [-0.8030,  0.9306, -1.0326],\n",
            "        [ 0.2099, -0.9337, -1.3468],\n",
            "        [-0.5099, -0.1163, -1.0048],\n",
            "        [-0.0383,  0.0115, -0.8755]])\n",
            "tensor([[ 0.0176],\n",
            "        [-0.0426],\n",
            "        [-0.2177],\n",
            "        [ 0.0596],\n",
            "        [-0.4645],\n",
            "        [-0.0426],\n",
            "        [ 0.0076],\n",
            "        [ 0.2612],\n",
            "        [-0.0301],\n",
            "        [ 0.1194],\n",
            "        [-0.0994],\n",
            "        [-0.1597],\n",
            "        [ 0.2677],\n",
            "        [-0.3470],\n",
            "        [-0.0904],\n",
            "        [-0.4098]], grad_fn=<AddmmBackward0>)\n"
          ]
        }
      ],
      "source": [
        "inputs = torch.randn((16, 3))\n",
        "outputs = model(inputs)\n",
        "print(inputs)\n",
        "print(outputs)"
      ]
    },
    {
      "cell_type": "markdown",
      "id": "78537bae",
      "metadata": {
        "id": "78537bae"
      },
      "source": [
        "### Упражнение\n",
        "\n",
        "Реализовать нейросеть, которая решает многоклассовую задачу классификации."
      ]
    },
    {
      "cell_type": "code",
      "execution_count": 130,
      "id": "b73ef4fd",
      "metadata": {
        "id": "b73ef4fd"
      },
      "outputs": [],
      "source": [
        "class ClassificationModel(nn.Module):\n",
        "    def __init__(self, n_inputs, n_outputs):\n",
        "        super().__init__()\n",
        "        self.model = nn.Sequential(\n",
        "            nn.Linear(n_inputs, 128),\n",
        "            nn.ReLU(),\n",
        "            nn.Dropout(0.5),\n",
        "            nn.Linear(128, 64),\n",
        "            nn.ReLU(),\n",
        "            nn.Dropout(0.5),\n",
        "            nn.Linear(64, n_outputs)\n",
        "        )\n",
        "\n",
        "    def forward(self, x):\n",
        "        res = self.model(x)\n",
        "        return res"
      ]
    },
    {
      "cell_type": "code",
      "execution_count": null,
      "id": "b4abd5a4",
      "metadata": {
        "id": "b4abd5a4"
      },
      "outputs": [],
      "source": [
        "model = ClassificationModel(n_inputs=3, n_outputs=5)\n",
        "print(model)"
      ]
    },
    {
      "cell_type": "code",
      "execution_count": null,
      "id": "206e9def",
      "metadata": {
        "id": "206e9def",
        "colab": {
          "base_uri": "https://localhost:8080/"
        },
        "outputId": "cea55ee2-e2dc-4973-be22-55e30060d42f"
      },
      "outputs": [
        {
          "output_type": "stream",
          "name": "stdout",
          "text": [
            "tensor([[-0.5209, -0.4240, -1.5090],\n",
            "        [ 1.2582,  0.8365,  0.4827],\n",
            "        [ 0.8861, -0.8171, -0.0058],\n",
            "        [ 0.0523, -0.9964,  0.2052],\n",
            "        [ 1.0111,  0.1694,  0.5641],\n",
            "        [-0.7087,  0.5506,  1.4862],\n",
            "        [-0.7013, -1.4389,  0.3379],\n",
            "        [-0.8933,  0.4242, -1.0964],\n",
            "        [ 1.0608,  1.2595, -0.2426],\n",
            "        [ 0.8870,  1.3541, -0.3570],\n",
            "        [ 0.6675, -0.5566, -0.8818],\n",
            "        [-1.0259, -1.6939, -1.2858],\n",
            "        [ 0.4243, -0.7593, -0.5592],\n",
            "        [ 0.7191, -0.6744, -0.7800],\n",
            "        [-0.1180, -0.0104, -0.0098],\n",
            "        [ 0.7699, -0.5383, -0.5641]])\n",
            "tensor([[-0.4924, -0.0169,  0.2994, -0.3879, -0.1447],\n",
            "        [-0.2704,  0.7011,  0.7769, -0.5781,  0.0221],\n",
            "        [-0.0596,  0.1705,  0.0792, -0.2325, -0.2036],\n",
            "        [ 0.3744,  0.3776,  0.0795, -0.2564, -0.1554],\n",
            "        [-0.0979,  0.2576,  0.0606, -0.2082, -0.1200],\n",
            "        [ 0.0669,  1.0411,  0.8262, -0.4135, -0.3432],\n",
            "        [-0.2700,  0.1828,  0.2291, -0.2263,  0.2018],\n",
            "        [-0.0484,  0.3725,  0.7284, -0.3795, -0.3491],\n",
            "        [ 0.0064,  0.3324,  0.0533, -0.0037, -0.1432],\n",
            "        [-0.2786,  0.1618,  0.1404, -0.4694, -0.2406],\n",
            "        [ 0.2505,  0.1019, -0.1178, -0.3975,  0.0444],\n",
            "        [-0.8048,  0.5277,  0.8389, -0.1936, -0.1336],\n",
            "        [-0.2323,  0.2144,  0.2613, -0.3721, -0.0097],\n",
            "        [ 0.0118,  0.2189,  0.0185, -0.2542, -0.1489],\n",
            "        [-0.1638,  0.3721,  0.4228, -0.0907, -0.2503],\n",
            "        [ 0.1876,  0.0565,  0.2724, -0.1952,  0.0135]],\n",
            "       grad_fn=<AddmmBackward0>)\n"
          ]
        }
      ],
      "source": [
        "inputs = torch.randn((16, 3))\n",
        "outputs = model(inputs)\n",
        "print(inputs)\n",
        "print(outputs)"
      ]
    },
    {
      "cell_type": "markdown",
      "id": "4632edc5",
      "metadata": {
        "id": "4632edc5"
      },
      "source": [
        "# Работа с данными"
      ]
    },
    {
      "cell_type": "code",
      "execution_count": 115,
      "id": "97c359c6",
      "metadata": {
        "id": "97c359c6"
      },
      "outputs": [],
      "source": [
        "import pandas as pd\n",
        "import numpy as np"
      ]
    },
    {
      "cell_type": "markdown",
      "id": "130a5928",
      "metadata": {
        "id": "130a5928"
      },
      "source": [
        "Загрузим классический датасет [\"Ирисы Фишера\"](https://en.wikipedia.org/wiki/Iris_flower_data_set)"
      ]
    },
    {
      "cell_type": "code",
      "execution_count": 116,
      "id": "81d0cbe1",
      "metadata": {
        "scrolled": true,
        "id": "81d0cbe1",
        "colab": {
          "base_uri": "https://localhost:8080/",
          "height": 206
        },
        "outputId": "5fff58a4-db61-4f23-d112-9123ff11f005"
      },
      "outputs": [
        {
          "output_type": "execute_result",
          "data": {
            "text/plain": [
              "    Id  SepalLengthCm  SepalWidthCm  PetalLengthCm  PetalWidthCm  \\\n",
              "0   74            6.1           2.8            4.7           1.2   \n",
              "1   19            5.7           3.8            1.7           0.3   \n",
              "2  119            7.7           2.6            6.9           2.3   \n",
              "3   79            6.0           2.9            4.5           1.5   \n",
              "4   77            6.8           2.8            4.8           1.4   \n",
              "\n",
              "           Species  \n",
              "0  Iris-versicolor  \n",
              "1      Iris-setosa  \n",
              "2   Iris-virginica  \n",
              "3  Iris-versicolor  \n",
              "4  Iris-versicolor  "
            ],
            "text/html": [
              "\n",
              "  <div id=\"df-bf77dc40-171d-486d-9e37-3b81e9d55cfb\" class=\"colab-df-container\">\n",
              "    <div>\n",
              "<style scoped>\n",
              "    .dataframe tbody tr th:only-of-type {\n",
              "        vertical-align: middle;\n",
              "    }\n",
              "\n",
              "    .dataframe tbody tr th {\n",
              "        vertical-align: top;\n",
              "    }\n",
              "\n",
              "    .dataframe thead th {\n",
              "        text-align: right;\n",
              "    }\n",
              "</style>\n",
              "<table border=\"1\" class=\"dataframe\">\n",
              "  <thead>\n",
              "    <tr style=\"text-align: right;\">\n",
              "      <th></th>\n",
              "      <th>Id</th>\n",
              "      <th>SepalLengthCm</th>\n",
              "      <th>SepalWidthCm</th>\n",
              "      <th>PetalLengthCm</th>\n",
              "      <th>PetalWidthCm</th>\n",
              "      <th>Species</th>\n",
              "    </tr>\n",
              "  </thead>\n",
              "  <tbody>\n",
              "    <tr>\n",
              "      <th>0</th>\n",
              "      <td>74</td>\n",
              "      <td>6.1</td>\n",
              "      <td>2.8</td>\n",
              "      <td>4.7</td>\n",
              "      <td>1.2</td>\n",
              "      <td>Iris-versicolor</td>\n",
              "    </tr>\n",
              "    <tr>\n",
              "      <th>1</th>\n",
              "      <td>19</td>\n",
              "      <td>5.7</td>\n",
              "      <td>3.8</td>\n",
              "      <td>1.7</td>\n",
              "      <td>0.3</td>\n",
              "      <td>Iris-setosa</td>\n",
              "    </tr>\n",
              "    <tr>\n",
              "      <th>2</th>\n",
              "      <td>119</td>\n",
              "      <td>7.7</td>\n",
              "      <td>2.6</td>\n",
              "      <td>6.9</td>\n",
              "      <td>2.3</td>\n",
              "      <td>Iris-virginica</td>\n",
              "    </tr>\n",
              "    <tr>\n",
              "      <th>3</th>\n",
              "      <td>79</td>\n",
              "      <td>6.0</td>\n",
              "      <td>2.9</td>\n",
              "      <td>4.5</td>\n",
              "      <td>1.5</td>\n",
              "      <td>Iris-versicolor</td>\n",
              "    </tr>\n",
              "    <tr>\n",
              "      <th>4</th>\n",
              "      <td>77</td>\n",
              "      <td>6.8</td>\n",
              "      <td>2.8</td>\n",
              "      <td>4.8</td>\n",
              "      <td>1.4</td>\n",
              "      <td>Iris-versicolor</td>\n",
              "    </tr>\n",
              "  </tbody>\n",
              "</table>\n",
              "</div>\n",
              "    <div class=\"colab-df-buttons\">\n",
              "\n",
              "  <div class=\"colab-df-container\">\n",
              "    <button class=\"colab-df-convert\" onclick=\"convertToInteractive('df-bf77dc40-171d-486d-9e37-3b81e9d55cfb')\"\n",
              "            title=\"Convert this dataframe to an interactive table.\"\n",
              "            style=\"display:none;\">\n",
              "\n",
              "  <svg xmlns=\"http://www.w3.org/2000/svg\" height=\"24px\" viewBox=\"0 -960 960 960\">\n",
              "    <path d=\"M120-120v-720h720v720H120Zm60-500h600v-160H180v160Zm220 220h160v-160H400v160Zm0 220h160v-160H400v160ZM180-400h160v-160H180v160Zm440 0h160v-160H620v160ZM180-180h160v-160H180v160Zm440 0h160v-160H620v160Z\"/>\n",
              "  </svg>\n",
              "    </button>\n",
              "\n",
              "  <style>\n",
              "    .colab-df-container {\n",
              "      display:flex;\n",
              "      gap: 12px;\n",
              "    }\n",
              "\n",
              "    .colab-df-convert {\n",
              "      background-color: #E8F0FE;\n",
              "      border: none;\n",
              "      border-radius: 50%;\n",
              "      cursor: pointer;\n",
              "      display: none;\n",
              "      fill: #1967D2;\n",
              "      height: 32px;\n",
              "      padding: 0 0 0 0;\n",
              "      width: 32px;\n",
              "    }\n",
              "\n",
              "    .colab-df-convert:hover {\n",
              "      background-color: #E2EBFA;\n",
              "      box-shadow: 0px 1px 2px rgba(60, 64, 67, 0.3), 0px 1px 3px 1px rgba(60, 64, 67, 0.15);\n",
              "      fill: #174EA6;\n",
              "    }\n",
              "\n",
              "    .colab-df-buttons div {\n",
              "      margin-bottom: 4px;\n",
              "    }\n",
              "\n",
              "    [theme=dark] .colab-df-convert {\n",
              "      background-color: #3B4455;\n",
              "      fill: #D2E3FC;\n",
              "    }\n",
              "\n",
              "    [theme=dark] .colab-df-convert:hover {\n",
              "      background-color: #434B5C;\n",
              "      box-shadow: 0px 1px 3px 1px rgba(0, 0, 0, 0.15);\n",
              "      filter: drop-shadow(0px 1px 2px rgba(0, 0, 0, 0.3));\n",
              "      fill: #FFFFFF;\n",
              "    }\n",
              "  </style>\n",
              "\n",
              "    <script>\n",
              "      const buttonEl =\n",
              "        document.querySelector('#df-bf77dc40-171d-486d-9e37-3b81e9d55cfb button.colab-df-convert');\n",
              "      buttonEl.style.display =\n",
              "        google.colab.kernel.accessAllowed ? 'block' : 'none';\n",
              "\n",
              "      async function convertToInteractive(key) {\n",
              "        const element = document.querySelector('#df-bf77dc40-171d-486d-9e37-3b81e9d55cfb');\n",
              "        const dataTable =\n",
              "          await google.colab.kernel.invokeFunction('convertToInteractive',\n",
              "                                                    [key], {});\n",
              "        if (!dataTable) return;\n",
              "\n",
              "        const docLinkHtml = 'Like what you see? Visit the ' +\n",
              "          '<a target=\"_blank\" href=https://colab.research.google.com/notebooks/data_table.ipynb>data table notebook</a>'\n",
              "          + ' to learn more about interactive tables.';\n",
              "        element.innerHTML = '';\n",
              "        dataTable['output_type'] = 'display_data';\n",
              "        await google.colab.output.renderOutput(dataTable, element);\n",
              "        const docLink = document.createElement('div');\n",
              "        docLink.innerHTML = docLinkHtml;\n",
              "        element.appendChild(docLink);\n",
              "      }\n",
              "    </script>\n",
              "  </div>\n",
              "\n",
              "\n",
              "    <div id=\"df-2a556785-8dbc-4c44-a696-5e20ced08eea\">\n",
              "      <button class=\"colab-df-quickchart\" onclick=\"quickchart('df-2a556785-8dbc-4c44-a696-5e20ced08eea')\"\n",
              "                title=\"Suggest charts\"\n",
              "                style=\"display:none;\">\n",
              "\n",
              "<svg xmlns=\"http://www.w3.org/2000/svg\" height=\"24px\"viewBox=\"0 0 24 24\"\n",
              "     width=\"24px\">\n",
              "    <g>\n",
              "        <path d=\"M19 3H5c-1.1 0-2 .9-2 2v14c0 1.1.9 2 2 2h14c1.1 0 2-.9 2-2V5c0-1.1-.9-2-2-2zM9 17H7v-7h2v7zm4 0h-2V7h2v10zm4 0h-2v-4h2v4z\"/>\n",
              "    </g>\n",
              "</svg>\n",
              "      </button>\n",
              "\n",
              "<style>\n",
              "  .colab-df-quickchart {\n",
              "      --bg-color: #E8F0FE;\n",
              "      --fill-color: #1967D2;\n",
              "      --hover-bg-color: #E2EBFA;\n",
              "      --hover-fill-color: #174EA6;\n",
              "      --disabled-fill-color: #AAA;\n",
              "      --disabled-bg-color: #DDD;\n",
              "  }\n",
              "\n",
              "  [theme=dark] .colab-df-quickchart {\n",
              "      --bg-color: #3B4455;\n",
              "      --fill-color: #D2E3FC;\n",
              "      --hover-bg-color: #434B5C;\n",
              "      --hover-fill-color: #FFFFFF;\n",
              "      --disabled-bg-color: #3B4455;\n",
              "      --disabled-fill-color: #666;\n",
              "  }\n",
              "\n",
              "  .colab-df-quickchart {\n",
              "    background-color: var(--bg-color);\n",
              "    border: none;\n",
              "    border-radius: 50%;\n",
              "    cursor: pointer;\n",
              "    display: none;\n",
              "    fill: var(--fill-color);\n",
              "    height: 32px;\n",
              "    padding: 0;\n",
              "    width: 32px;\n",
              "  }\n",
              "\n",
              "  .colab-df-quickchart:hover {\n",
              "    background-color: var(--hover-bg-color);\n",
              "    box-shadow: 0 1px 2px rgba(60, 64, 67, 0.3), 0 1px 3px 1px rgba(60, 64, 67, 0.15);\n",
              "    fill: var(--button-hover-fill-color);\n",
              "  }\n",
              "\n",
              "  .colab-df-quickchart-complete:disabled,\n",
              "  .colab-df-quickchart-complete:disabled:hover {\n",
              "    background-color: var(--disabled-bg-color);\n",
              "    fill: var(--disabled-fill-color);\n",
              "    box-shadow: none;\n",
              "  }\n",
              "\n",
              "  .colab-df-spinner {\n",
              "    border: 2px solid var(--fill-color);\n",
              "    border-color: transparent;\n",
              "    border-bottom-color: var(--fill-color);\n",
              "    animation:\n",
              "      spin 1s steps(1) infinite;\n",
              "  }\n",
              "\n",
              "  @keyframes spin {\n",
              "    0% {\n",
              "      border-color: transparent;\n",
              "      border-bottom-color: var(--fill-color);\n",
              "      border-left-color: var(--fill-color);\n",
              "    }\n",
              "    20% {\n",
              "      border-color: transparent;\n",
              "      border-left-color: var(--fill-color);\n",
              "      border-top-color: var(--fill-color);\n",
              "    }\n",
              "    30% {\n",
              "      border-color: transparent;\n",
              "      border-left-color: var(--fill-color);\n",
              "      border-top-color: var(--fill-color);\n",
              "      border-right-color: var(--fill-color);\n",
              "    }\n",
              "    40% {\n",
              "      border-color: transparent;\n",
              "      border-right-color: var(--fill-color);\n",
              "      border-top-color: var(--fill-color);\n",
              "    }\n",
              "    60% {\n",
              "      border-color: transparent;\n",
              "      border-right-color: var(--fill-color);\n",
              "    }\n",
              "    80% {\n",
              "      border-color: transparent;\n",
              "      border-right-color: var(--fill-color);\n",
              "      border-bottom-color: var(--fill-color);\n",
              "    }\n",
              "    90% {\n",
              "      border-color: transparent;\n",
              "      border-bottom-color: var(--fill-color);\n",
              "    }\n",
              "  }\n",
              "</style>\n",
              "\n",
              "      <script>\n",
              "        async function quickchart(key) {\n",
              "          const quickchartButtonEl =\n",
              "            document.querySelector('#' + key + ' button');\n",
              "          quickchartButtonEl.disabled = true;  // To prevent multiple clicks.\n",
              "          quickchartButtonEl.classList.add('colab-df-spinner');\n",
              "          try {\n",
              "            const charts = await google.colab.kernel.invokeFunction(\n",
              "                'suggestCharts', [key], {});\n",
              "          } catch (error) {\n",
              "            console.error('Error during call to suggestCharts:', error);\n",
              "          }\n",
              "          quickchartButtonEl.classList.remove('colab-df-spinner');\n",
              "          quickchartButtonEl.classList.add('colab-df-quickchart-complete');\n",
              "        }\n",
              "        (() => {\n",
              "          let quickchartButtonEl =\n",
              "            document.querySelector('#df-2a556785-8dbc-4c44-a696-5e20ced08eea button');\n",
              "          quickchartButtonEl.style.display =\n",
              "            google.colab.kernel.accessAllowed ? 'block' : 'none';\n",
              "        })();\n",
              "      </script>\n",
              "    </div>\n",
              "\n",
              "    </div>\n",
              "  </div>\n"
            ],
            "application/vnd.google.colaboratory.intrinsic+json": {
              "type": "dataframe",
              "variable_name": "df",
              "summary": "{\n  \"name\": \"df\",\n  \"rows\": 150,\n  \"fields\": [\n    {\n      \"column\": \"Id\",\n      \"properties\": {\n        \"dtype\": \"number\",\n        \"std\": 43,\n        \"min\": 1,\n        \"max\": 150,\n        \"num_unique_values\": 150,\n        \"samples\": [\n          102,\n          56,\n          80\n        ],\n        \"semantic_type\": \"\",\n        \"description\": \"\"\n      }\n    },\n    {\n      \"column\": \"SepalLengthCm\",\n      \"properties\": {\n        \"dtype\": \"number\",\n        \"std\": 0.8280661279778629,\n        \"min\": 4.3,\n        \"max\": 7.9,\n        \"num_unique_values\": 35,\n        \"samples\": [\n          7.6,\n          4.9,\n          6.6\n        ],\n        \"semantic_type\": \"\",\n        \"description\": \"\"\n      }\n    },\n    {\n      \"column\": \"SepalWidthCm\",\n      \"properties\": {\n        \"dtype\": \"number\",\n        \"std\": 0.43359431136217375,\n        \"min\": 2.0,\n        \"max\": 4.4,\n        \"num_unique_values\": 23,\n        \"samples\": [\n          4.1,\n          3.0,\n          2.8\n        ],\n        \"semantic_type\": \"\",\n        \"description\": \"\"\n      }\n    },\n    {\n      \"column\": \"PetalLengthCm\",\n      \"properties\": {\n        \"dtype\": \"number\",\n        \"std\": 1.7644204199522622,\n        \"min\": 1.0,\n        \"max\": 6.9,\n        \"num_unique_values\": 43,\n        \"samples\": [\n          3.0,\n          4.2,\n          6.6\n        ],\n        \"semantic_type\": \"\",\n        \"description\": \"\"\n      }\n    },\n    {\n      \"column\": \"PetalWidthCm\",\n      \"properties\": {\n        \"dtype\": \"number\",\n        \"std\": 0.7631607417008416,\n        \"min\": 0.1,\n        \"max\": 2.5,\n        \"num_unique_values\": 22,\n        \"samples\": [\n          1.2,\n          1.8,\n          0.1\n        ],\n        \"semantic_type\": \"\",\n        \"description\": \"\"\n      }\n    },\n    {\n      \"column\": \"Species\",\n      \"properties\": {\n        \"dtype\": \"category\",\n        \"num_unique_values\": 3,\n        \"samples\": [\n          \"Iris-versicolor\",\n          \"Iris-setosa\",\n          \"Iris-virginica\"\n        ],\n        \"semantic_type\": \"\",\n        \"description\": \"\"\n      }\n    }\n  ]\n}"
            }
          },
          "metadata": {},
          "execution_count": 116
        }
      ],
      "source": [
        "df = pd.read_csv('Iris.csv').sample(frac=1, random_state=42, ignore_index=True)\n",
        "df.head()"
      ]
    },
    {
      "cell_type": "markdown",
      "id": "2cd81c40",
      "metadata": {
        "id": "2cd81c40"
      },
      "source": [
        "Размеры датасета:"
      ]
    },
    {
      "cell_type": "code",
      "execution_count": null,
      "id": "4b2fd6c1",
      "metadata": {
        "scrolled": true,
        "id": "4b2fd6c1",
        "colab": {
          "base_uri": "https://localhost:8080/"
        },
        "outputId": "ad8df756-53dc-432b-f31f-88211a8cb3e9"
      },
      "outputs": [
        {
          "output_type": "stream",
          "name": "stdout",
          "text": [
            "(150, 6)\n"
          ]
        }
      ],
      "source": [
        "print(df.shape)"
      ]
    },
    {
      "cell_type": "markdown",
      "id": "b11de8e0",
      "metadata": {
        "id": "b11de8e0"
      },
      "source": [
        "Распределение классов:"
      ]
    },
    {
      "cell_type": "code",
      "execution_count": null,
      "id": "b278aa84",
      "metadata": {
        "id": "b278aa84",
        "colab": {
          "base_uri": "https://localhost:8080/",
          "height": 210
        },
        "outputId": "ff42158e-92b9-438c-c6b2-633fcb490df0"
      },
      "outputs": [
        {
          "output_type": "execute_result",
          "data": {
            "text/plain": [
              "Species\n",
              "Iris-versicolor    50\n",
              "Iris-setosa        50\n",
              "Iris-virginica     50\n",
              "Name: count, dtype: int64"
            ],
            "text/html": [
              "<div>\n",
              "<style scoped>\n",
              "    .dataframe tbody tr th:only-of-type {\n",
              "        vertical-align: middle;\n",
              "    }\n",
              "\n",
              "    .dataframe tbody tr th {\n",
              "        vertical-align: top;\n",
              "    }\n",
              "\n",
              "    .dataframe thead th {\n",
              "        text-align: right;\n",
              "    }\n",
              "</style>\n",
              "<table border=\"1\" class=\"dataframe\">\n",
              "  <thead>\n",
              "    <tr style=\"text-align: right;\">\n",
              "      <th></th>\n",
              "      <th>count</th>\n",
              "    </tr>\n",
              "    <tr>\n",
              "      <th>Species</th>\n",
              "      <th></th>\n",
              "    </tr>\n",
              "  </thead>\n",
              "  <tbody>\n",
              "    <tr>\n",
              "      <th>Iris-versicolor</th>\n",
              "      <td>50</td>\n",
              "    </tr>\n",
              "    <tr>\n",
              "      <th>Iris-setosa</th>\n",
              "      <td>50</td>\n",
              "    </tr>\n",
              "    <tr>\n",
              "      <th>Iris-virginica</th>\n",
              "      <td>50</td>\n",
              "    </tr>\n",
              "  </tbody>\n",
              "</table>\n",
              "</div><br><label><b>dtype:</b> int64</label>"
            ]
          },
          "metadata": {},
          "execution_count": 47
        }
      ],
      "source": [
        "df['Species'].value_counts()"
      ]
    },
    {
      "cell_type": "markdown",
      "id": "5b026df9",
      "metadata": {
        "id": "5b026df9"
      },
      "source": [
        "Получим матрицу признаков `X` и вектор ответов `y`. При обучении мы можем оперировать только с числами, поэтому закодируем каждый класс числом (0, 1, 2)."
      ]
    },
    {
      "cell_type": "code",
      "execution_count": null,
      "id": "d29a075c",
      "metadata": {
        "id": "d29a075c"
      },
      "outputs": [],
      "source": [
        "def preprocess(df):\n",
        "    X = df[['SepalLengthCm', 'SepalWidthCm', 'PetalLengthCm', 'PetalWidthCm']].values.astype(np.float32)\n",
        "    y = df['Species'].map({'Iris-setosa': 0, 'Iris-versicolor': 1, 'Iris-virginica': 2}).values\n",
        "    return X, y"
      ]
    },
    {
      "cell_type": "code",
      "execution_count": null,
      "id": "e526dec1",
      "metadata": {
        "id": "e526dec1"
      },
      "outputs": [],
      "source": [
        "X, y = preprocess(df)\n",
        "X_train, y_train = X[:50], y[:50]\n",
        "X_valid, y_valid = X[50:100], y[50:100]\n",
        "X_test, y_test = X[100:150], y[100:150]"
      ]
    },
    {
      "cell_type": "code",
      "execution_count": null,
      "id": "44018b9e",
      "metadata": {
        "id": "44018b9e",
        "colab": {
          "base_uri": "https://localhost:8080/"
        },
        "outputId": "111ed877-2443-4df0-b822-9eb1890d3b11"
      },
      "outputs": [
        {
          "output_type": "stream",
          "name": "stdout",
          "text": [
            "[6.1 2.8 4.7 1.2] 1\n"
          ]
        }
      ],
      "source": [
        "print(X[0], y[0])"
      ]
    },
    {
      "cell_type": "markdown",
      "id": "f475f951",
      "metadata": {
        "id": "f475f951"
      },
      "source": [
        "Для того, чтобы удобно обучать нейросети с помощью PyTorch, в нем реализованы два класса работы с данными: `Dataset`, `DataLoader`."
      ]
    },
    {
      "cell_type": "code",
      "execution_count": null,
      "id": "270b1650",
      "metadata": {
        "id": "270b1650"
      },
      "outputs": [],
      "source": [
        "from torch.utils.data import Dataset, DataLoader"
      ]
    },
    {
      "cell_type": "code",
      "execution_count": null,
      "id": "41680ef6",
      "metadata": {
        "id": "41680ef6"
      },
      "outputs": [],
      "source": [
        "class MyDataset(Dataset):\n",
        "    def __init__(self, X, y):\n",
        "        self.X = X\n",
        "        self.y = y\n",
        "\n",
        "    def __getitem__(self, idx):\n",
        "        return self.X[idx], self.y[idx]\n",
        "\n",
        "    def __len__(self):\n",
        "        return len(self.X)"
      ]
    },
    {
      "cell_type": "code",
      "execution_count": null,
      "id": "ed668c15",
      "metadata": {
        "id": "ed668c15"
      },
      "outputs": [],
      "source": [
        "train_dataset = MyDataset(X_train, y_train)\n",
        "valid_dataset = MyDataset(X_valid, y_valid)\n",
        "test_dataset = MyDataset(X_test, y_test)"
      ]
    },
    {
      "cell_type": "markdown",
      "id": "d7b46432",
      "metadata": {
        "id": "d7b46432"
      },
      "source": [
        "Посмотрим, что можно делать с датасетами. Мы можем получить его размер с помощью len(...). Для этого мы реализовали метод `__len__`:"
      ]
    },
    {
      "cell_type": "code",
      "execution_count": null,
      "id": "dfded3b2",
      "metadata": {
        "id": "dfded3b2",
        "colab": {
          "base_uri": "https://localhost:8080/"
        },
        "outputId": "443aa7ed-c7f3-455b-c62a-fd9dd0abc7d6"
      },
      "outputs": [
        {
          "output_type": "stream",
          "name": "stdout",
          "text": [
            "50\n"
          ]
        }
      ],
      "source": [
        "print(len(train_dataset))"
      ]
    },
    {
      "cell_type": "markdown",
      "id": "d99ecd87",
      "metadata": {
        "id": "d99ecd87"
      },
      "source": [
        "Мы также можем обращаться к массиву, используя различные виды индексирования:"
      ]
    },
    {
      "cell_type": "code",
      "execution_count": null,
      "id": "6a8104e2",
      "metadata": {
        "id": "6a8104e2",
        "colab": {
          "base_uri": "https://localhost:8080/"
        },
        "outputId": "01367d4e-cce8-4877-e778-6f8c693f55a9"
      },
      "outputs": [
        {
          "output_type": "stream",
          "name": "stdout",
          "text": [
            "[6.1 2.8 4.7 1.2] 1\n"
          ]
        }
      ],
      "source": [
        "x, y = train_dataset[0]\n",
        "print(x, y)"
      ]
    },
    {
      "cell_type": "code",
      "execution_count": null,
      "id": "845d4699",
      "metadata": {
        "id": "845d4699",
        "colab": {
          "base_uri": "https://localhost:8080/"
        },
        "outputId": "b1d2214d-85ee-4005-ea63-5adae4dcb9d2"
      },
      "outputs": [
        {
          "output_type": "stream",
          "name": "stdout",
          "text": [
            "[[6.1 2.8 4.7 1.2]\n",
            " [5.7 3.8 1.7 0.3]\n",
            " [7.7 2.6 6.9 2.3]\n",
            " [6.  2.9 4.5 1.5]\n",
            " [6.8 2.8 4.8 1.4]]\n",
            "[1 0 2 1 1]\n"
          ]
        }
      ],
      "source": [
        "X_batch, y_batch = train_dataset[:5]\n",
        "print(X_batch)\n",
        "print(y_batch)"
      ]
    },
    {
      "cell_type": "code",
      "execution_count": null,
      "id": "0696b3a4",
      "metadata": {
        "id": "0696b3a4",
        "colab": {
          "base_uri": "https://localhost:8080/"
        },
        "outputId": "e661e79b-43d1-438a-8983-a6ab78434ee5"
      },
      "outputs": [
        {
          "output_type": "stream",
          "name": "stdout",
          "text": [
            "[[6.1 2.8 4.7 1.2]\n",
            " [7.7 2.6 6.9 2.3]\n",
            " [5.4 3.4 1.5 0.4]]\n",
            "[1 2 0]\n"
          ]
        }
      ],
      "source": [
        "X_batch, y_batch = train_dataset[[0, 2, 5]]\n",
        "print(X_batch)\n",
        "print(y_batch)"
      ]
    },
    {
      "cell_type": "markdown",
      "id": "267bf709",
      "metadata": {
        "id": "267bf709"
      },
      "source": [
        "Класс `DataLoader` нужен для автоматического формирования батчей для заданного датасета."
      ]
    },
    {
      "cell_type": "code",
      "execution_count": null,
      "id": "3d058945",
      "metadata": {
        "id": "3d058945"
      },
      "outputs": [],
      "source": [
        "train_loader = DataLoader(train_dataset, batch_size=8, shuffle=True, drop_last=True)\n",
        "valid_loader = DataLoader(valid_dataset, batch_size=8, shuffle=True, drop_last=True)\n",
        "test_loader = DataLoader(test_dataset, batch_size=8, shuffle=True, drop_last=True)"
      ]
    },
    {
      "cell_type": "code",
      "execution_count": null,
      "id": "a153cd8d",
      "metadata": {
        "id": "a153cd8d",
        "colab": {
          "base_uri": "https://localhost:8080/"
        },
        "outputId": "6398419b-0801-42bd-b406-552a2aa9ebc7"
      },
      "outputs": [
        {
          "output_type": "stream",
          "name": "stdout",
          "text": [
            "6\n",
            "[tensor([[6.6000, 3.0000, 4.4000, 1.4000],\n",
            "        [7.7000, 2.6000, 6.9000, 2.3000],\n",
            "        [6.0000, 2.9000, 4.5000, 1.5000],\n",
            "        [5.7000, 4.4000, 1.5000, 0.4000],\n",
            "        [6.2000, 2.2000, 4.5000, 1.5000],\n",
            "        [6.5000, 3.0000, 5.8000, 2.2000],\n",
            "        [6.1000, 3.0000, 4.9000, 1.8000],\n",
            "        [5.2000, 4.1000, 1.5000, 0.1000]]), tensor([1, 2, 1, 0, 1, 2, 2, 0])]\n",
            "[tensor([[6.3000, 2.5000, 5.0000, 1.9000],\n",
            "        [6.4000, 3.1000, 5.5000, 1.8000],\n",
            "        [4.8000, 3.1000, 1.6000, 0.2000],\n",
            "        [6.4000, 2.8000, 5.6000, 2.1000],\n",
            "        [6.1000, 2.8000, 4.7000, 1.2000],\n",
            "        [5.5000, 2.4000, 3.7000, 1.0000],\n",
            "        [5.1000, 3.8000, 1.5000, 0.3000],\n",
            "        [5.0000, 3.6000, 1.4000, 0.2000]]), tensor([2, 2, 0, 2, 1, 1, 0, 0])]\n"
          ]
        }
      ],
      "source": [
        "batches = [x for x in train_loader]\n",
        "print(len(batches))\n",
        "print(batches[0])\n",
        "print(batches[1])"
      ]
    },
    {
      "cell_type": "markdown",
      "id": "9b1436ba",
      "metadata": {
        "id": "9b1436ba"
      },
      "source": [
        "# Обучение модели"
      ]
    },
    {
      "cell_type": "code",
      "execution_count": null,
      "id": "7290becd",
      "metadata": {
        "id": "7290becd"
      },
      "outputs": [],
      "source": [
        "import random\n",
        "import numpy as np\n",
        "from tqdm import tqdm"
      ]
    },
    {
      "cell_type": "markdown",
      "id": "01230b1a",
      "metadata": {
        "id": "01230b1a"
      },
      "source": [
        "Сделаем эксперименты воспроизводимыми"
      ]
    },
    {
      "cell_type": "code",
      "execution_count": null,
      "id": "bec2cba8",
      "metadata": {
        "id": "bec2cba8"
      },
      "outputs": [],
      "source": [
        "torch.manual_seed(42)\n",
        "np.random.seed(42)\n",
        "random.seed(42)"
      ]
    },
    {
      "cell_type": "markdown",
      "id": "11957c82",
      "metadata": {
        "id": "11957c82"
      },
      "source": [
        "Зададим параметры обучения"
      ]
    },
    {
      "cell_type": "code",
      "execution_count": 128,
      "id": "8ad28d8f",
      "metadata": {
        "id": "8ad28d8f"
      },
      "outputs": [],
      "source": [
        "# Количество эпох (полных проходов по датасету)\n",
        "n_epochs = 128\n",
        "\n",
        "# Размерность входа\n",
        "n_inputs = 4\n",
        "\n",
        "# Размерность выхода (кол-во классов)\n",
        "n_outputs = 3\n",
        "\n",
        "# Скорость обучения (learning rate)\n",
        "lr = 1e-3"
      ]
    },
    {
      "cell_type": "markdown",
      "id": "515dcba5",
      "metadata": {
        "id": "515dcba5"
      },
      "source": [
        "Инициализируем модель, функцию потерь и оптимизатор"
      ]
    },
    {
      "cell_type": "code",
      "execution_count": 131,
      "id": "247f0da4",
      "metadata": {
        "id": "247f0da4"
      },
      "outputs": [],
      "source": [
        "model = ClassificationModel(n_inputs=n_inputs, n_outputs=n_outputs)\n",
        "loss_func = nn.CrossEntropyLoss()\n",
        "optimizer = torch.optim.Adam(params=model.parameters(), lr=lr)"
      ]
    },
    {
      "cell_type": "markdown",
      "id": "e081324a",
      "metadata": {
        "id": "e081324a"
      },
      "source": [
        "Реализуем вычисление потерь на валидационном датасете"
      ]
    },
    {
      "cell_type": "code",
      "source": [
        "model.training"
      ],
      "metadata": {
        "colab": {
          "base_uri": "https://localhost:8080/"
        },
        "id": "_8oONlrjWJsL",
        "outputId": "5b758648-ee5e-4d28-bdd1-c9a803d62c06"
      },
      "id": "_8oONlrjWJsL",
      "execution_count": 132,
      "outputs": [
        {
          "output_type": "execute_result",
          "data": {
            "text/plain": [
              "True"
            ]
          },
          "metadata": {},
          "execution_count": 132
        }
      ]
    },
    {
      "cell_type": "code",
      "execution_count": 133,
      "id": "905a9f32",
      "metadata": {
        "id": "905a9f32"
      },
      "outputs": [],
      "source": [
        "def compute_validation_loss(model, loader, loss_func):\n",
        "    loss = 0\n",
        "    model.eval()\n",
        "    for x, y in loader:\n",
        "        with torch.no_grad():\n",
        "            logits = model(x)\n",
        "        loss += loss_func(logits, y).item() / len(loader)\n",
        "    return loss"
      ]
    },
    {
      "cell_type": "markdown",
      "id": "0de3c69b",
      "metadata": {
        "id": "0de3c69b"
      },
      "source": [
        "Реализуем цикл обучения нейросети (внешний цикл по эпохам, а внутренний -- по батчам). В конце каждой эпохи будем считать потери на валидационном датасете."
      ]
    },
    {
      "cell_type": "code",
      "execution_count": 134,
      "id": "1f870593",
      "metadata": {
        "scrolled": false,
        "id": "1f870593",
        "colab": {
          "base_uri": "https://localhost:8080/"
        },
        "outputId": "47bab361-8540-4f8f-918b-044914a1be3d"
      },
      "outputs": [
        {
          "output_type": "stream",
          "name": "stdout",
          "text": [
            "Epoch 1\n"
          ]
        },
        {
          "output_type": "stream",
          "name": "stderr",
          "text": [
            "100%|██████████| 6/6 [00:00<00:00, 61.31it/s]\n"
          ]
        },
        {
          "output_type": "stream",
          "name": "stdout",
          "text": [
            "train_loss=1.3773870468139648, eval_loss=1.0775188604990642\n",
            "Epoch 2\n"
          ]
        },
        {
          "output_type": "stream",
          "name": "stderr",
          "text": [
            "100%|██████████| 6/6 [00:00<00:00, 470.66it/s]\n"
          ]
        },
        {
          "output_type": "stream",
          "name": "stdout",
          "text": [
            "train_loss=0.9769901037216187, eval_loss=0.9859365920225778\n",
            "Epoch 3\n"
          ]
        },
        {
          "output_type": "stream",
          "name": "stderr",
          "text": [
            "100%|██████████| 6/6 [00:00<00:00, 493.35it/s]\n"
          ]
        },
        {
          "output_type": "stream",
          "name": "stdout",
          "text": [
            "train_loss=0.9205216765403748, eval_loss=0.9081339836120607\n",
            "Epoch 4\n"
          ]
        },
        {
          "output_type": "stream",
          "name": "stderr",
          "text": [
            "100%|██████████| 6/6 [00:00<00:00, 513.55it/s]\n"
          ]
        },
        {
          "output_type": "stream",
          "name": "stdout",
          "text": [
            "train_loss=0.7787574529647827, eval_loss=0.8342000047365824\n",
            "Epoch 5\n"
          ]
        },
        {
          "output_type": "stream",
          "name": "stderr",
          "text": [
            "100%|██████████| 6/6 [00:00<00:00, 534.00it/s]\n"
          ]
        },
        {
          "output_type": "stream",
          "name": "stdout",
          "text": [
            "train_loss=0.7650468945503235, eval_loss=0.7699860632419586\n",
            "Epoch 6\n"
          ]
        },
        {
          "output_type": "stream",
          "name": "stderr",
          "text": [
            "100%|██████████| 6/6 [00:00<00:00, 455.83it/s]\n"
          ]
        },
        {
          "output_type": "stream",
          "name": "stdout",
          "text": [
            "train_loss=0.7144858837127686, eval_loss=0.7060147821903229\n",
            "Epoch 7\n"
          ]
        },
        {
          "output_type": "stream",
          "name": "stderr",
          "text": [
            "100%|██████████| 6/6 [00:00<00:00, 375.27it/s]\n"
          ]
        },
        {
          "output_type": "stream",
          "name": "stdout",
          "text": [
            "train_loss=0.6404547691345215, eval_loss=0.630584587653478\n",
            "Epoch 8\n"
          ]
        },
        {
          "output_type": "stream",
          "name": "stderr",
          "text": [
            "100%|██████████| 6/6 [00:00<00:00, 552.88it/s]\n"
          ]
        },
        {
          "output_type": "stream",
          "name": "stdout",
          "text": [
            "train_loss=0.530470073223114, eval_loss=0.5640297830104828\n",
            "Epoch 9\n"
          ]
        },
        {
          "output_type": "stream",
          "name": "stderr",
          "text": [
            "100%|██████████| 6/6 [00:00<00:00, 472.39it/s]\n"
          ]
        },
        {
          "output_type": "stream",
          "name": "stdout",
          "text": [
            "train_loss=0.5433768033981323, eval_loss=0.5273530036211014\n",
            "Epoch 10\n"
          ]
        },
        {
          "output_type": "stream",
          "name": "stderr",
          "text": [
            "100%|██████████| 6/6 [00:00<00:00, 533.88it/s]\n"
          ]
        },
        {
          "output_type": "stream",
          "name": "stdout",
          "text": [
            "train_loss=0.46952179074287415, eval_loss=0.47863085071245826\n",
            "Epoch 11\n"
          ]
        },
        {
          "output_type": "stream",
          "name": "stderr",
          "text": [
            "100%|██████████| 6/6 [00:00<00:00, 490.74it/s]\n"
          ]
        },
        {
          "output_type": "stream",
          "name": "stdout",
          "text": [
            "train_loss=0.40960294008255005, eval_loss=0.4506497432788213\n",
            "Epoch 12\n"
          ]
        },
        {
          "output_type": "stream",
          "name": "stderr",
          "text": [
            "100%|██████████| 6/6 [00:00<00:00, 501.88it/s]\n"
          ]
        },
        {
          "output_type": "stream",
          "name": "stdout",
          "text": [
            "train_loss=0.4587779641151428, eval_loss=0.4304015090068181\n",
            "Epoch 13\n"
          ]
        },
        {
          "output_type": "stream",
          "name": "stderr",
          "text": [
            "100%|██████████| 6/6 [00:00<00:00, 468.17it/s]\n"
          ]
        },
        {
          "output_type": "stream",
          "name": "stdout",
          "text": [
            "train_loss=0.2373722344636917, eval_loss=0.41323807338873547\n",
            "Epoch 14\n"
          ]
        },
        {
          "output_type": "stream",
          "name": "stderr",
          "text": [
            "100%|██████████| 6/6 [00:00<00:00, 510.83it/s]\n"
          ]
        },
        {
          "output_type": "stream",
          "name": "stdout",
          "text": [
            "train_loss=0.35865360498428345, eval_loss=0.3892238487799963\n",
            "Epoch 15\n"
          ]
        },
        {
          "output_type": "stream",
          "name": "stderr",
          "text": [
            "100%|██████████| 6/6 [00:00<00:00, 468.47it/s]\n"
          ]
        },
        {
          "output_type": "stream",
          "name": "stdout",
          "text": [
            "train_loss=0.33884376287460327, eval_loss=0.3642441580692927\n",
            "Epoch 16\n"
          ]
        },
        {
          "output_type": "stream",
          "name": "stderr",
          "text": [
            "100%|██████████| 6/6 [00:00<00:00, 522.95it/s]\n"
          ]
        },
        {
          "output_type": "stream",
          "name": "stdout",
          "text": [
            "train_loss=0.3901904225349426, eval_loss=0.33310886720816296\n",
            "Epoch 17\n"
          ]
        },
        {
          "output_type": "stream",
          "name": "stderr",
          "text": [
            "100%|██████████| 6/6 [00:00<00:00, 483.01it/s]\n"
          ]
        },
        {
          "output_type": "stream",
          "name": "stdout",
          "text": [
            "train_loss=0.2393987476825714, eval_loss=0.3287673269708951\n",
            "Epoch 18\n"
          ]
        },
        {
          "output_type": "stream",
          "name": "stderr",
          "text": [
            "100%|██████████| 6/6 [00:00<00:00, 521.03it/s]\n"
          ]
        },
        {
          "output_type": "stream",
          "name": "stdout",
          "text": [
            "train_loss=0.3945012092590332, eval_loss=0.3488066171606382\n",
            "Epoch 19\n"
          ]
        },
        {
          "output_type": "stream",
          "name": "stderr",
          "text": [
            "100%|██████████| 6/6 [00:00<00:00, 478.21it/s]\n"
          ]
        },
        {
          "output_type": "stream",
          "name": "stdout",
          "text": [
            "train_loss=0.18498627841472626, eval_loss=0.2955337514479955\n",
            "Epoch 20\n"
          ]
        },
        {
          "output_type": "stream",
          "name": "stderr",
          "text": [
            "100%|██████████| 6/6 [00:00<00:00, 449.47it/s]\n"
          ]
        },
        {
          "output_type": "stream",
          "name": "stdout",
          "text": [
            "train_loss=0.4351308345794678, eval_loss=0.28855453679958976\n",
            "Epoch 21\n"
          ]
        },
        {
          "output_type": "stream",
          "name": "stderr",
          "text": [
            "100%|██████████| 6/6 [00:00<00:00, 525.35it/s]\n"
          ]
        },
        {
          "output_type": "stream",
          "name": "stdout",
          "text": [
            "train_loss=0.33365491032600403, eval_loss=0.2609152396519979\n",
            "Epoch 22\n"
          ]
        },
        {
          "output_type": "stream",
          "name": "stderr",
          "text": [
            "100%|██████████| 6/6 [00:00<00:00, 368.41it/s]\n"
          ]
        },
        {
          "output_type": "stream",
          "name": "stdout",
          "text": [
            "train_loss=0.12824343144893646, eval_loss=0.2711827233433724\n",
            "Epoch 23\n"
          ]
        },
        {
          "output_type": "stream",
          "name": "stderr",
          "text": [
            "100%|██████████| 6/6 [00:00<00:00, 400.14it/s]\n"
          ]
        },
        {
          "output_type": "stream",
          "name": "stdout",
          "text": [
            "train_loss=0.3606526553630829, eval_loss=0.26824564238389337\n",
            "Epoch 24\n"
          ]
        },
        {
          "output_type": "stream",
          "name": "stderr",
          "text": [
            "100%|██████████| 6/6 [00:00<00:00, 430.74it/s]\n"
          ]
        },
        {
          "output_type": "stream",
          "name": "stdout",
          "text": [
            "train_loss=0.24776965379714966, eval_loss=0.24210497240225473\n",
            "Epoch 25\n"
          ]
        },
        {
          "output_type": "stream",
          "name": "stderr",
          "text": [
            "100%|██████████| 6/6 [00:00<00:00, 511.86it/s]\n"
          ]
        },
        {
          "output_type": "stream",
          "name": "stdout",
          "text": [
            "train_loss=0.17519450187683105, eval_loss=0.2312312771876653\n",
            "Epoch 26\n"
          ]
        },
        {
          "output_type": "stream",
          "name": "stderr",
          "text": [
            "100%|██████████| 6/6 [00:00<00:00, 475.57it/s]\n"
          ]
        },
        {
          "output_type": "stream",
          "name": "stdout",
          "text": [
            "train_loss=0.08098450303077698, eval_loss=0.22412050515413284\n",
            "Epoch 27\n"
          ]
        },
        {
          "output_type": "stream",
          "name": "stderr",
          "text": [
            "100%|██████████| 6/6 [00:00<00:00, 476.25it/s]\n"
          ]
        },
        {
          "output_type": "stream",
          "name": "stdout",
          "text": [
            "train_loss=0.2092226892709732, eval_loss=0.22347259521484372\n",
            "Epoch 28\n"
          ]
        },
        {
          "output_type": "stream",
          "name": "stderr",
          "text": [
            "100%|██████████| 6/6 [00:00<00:00, 501.84it/s]\n"
          ]
        },
        {
          "output_type": "stream",
          "name": "stdout",
          "text": [
            "train_loss=0.18476051092147827, eval_loss=0.21682224422693255\n",
            "Epoch 29\n"
          ]
        },
        {
          "output_type": "stream",
          "name": "stderr",
          "text": [
            "100%|██████████| 6/6 [00:00<00:00, 501.65it/s]\n"
          ]
        },
        {
          "output_type": "stream",
          "name": "stdout",
          "text": [
            "train_loss=0.10258488357067108, eval_loss=0.20797731230656305\n",
            "Epoch 30\n"
          ]
        },
        {
          "output_type": "stream",
          "name": "stderr",
          "text": [
            "100%|██████████| 6/6 [00:00<00:00, 477.15it/s]\n"
          ]
        },
        {
          "output_type": "stream",
          "name": "stdout",
          "text": [
            "train_loss=0.11281606554985046, eval_loss=0.20296795790394145\n",
            "Epoch 31\n"
          ]
        },
        {
          "output_type": "stream",
          "name": "stderr",
          "text": [
            "100%|██████████| 6/6 [00:00<00:00, 490.34it/s]\n"
          ]
        },
        {
          "output_type": "stream",
          "name": "stdout",
          "text": [
            "train_loss=0.13579824566841125, eval_loss=0.18629741668701172\n",
            "Epoch 32\n"
          ]
        },
        {
          "output_type": "stream",
          "name": "stderr",
          "text": [
            "100%|██████████| 6/6 [00:00<00:00, 445.39it/s]\n"
          ]
        },
        {
          "output_type": "stream",
          "name": "stdout",
          "text": [
            "train_loss=0.29041314125061035, eval_loss=0.22333097582062086\n",
            "Epoch 33\n"
          ]
        },
        {
          "output_type": "stream",
          "name": "stderr",
          "text": [
            "100%|██████████| 6/6 [00:00<00:00, 524.04it/s]\n"
          ]
        },
        {
          "output_type": "stream",
          "name": "stdout",
          "text": [
            "train_loss=0.1310872733592987, eval_loss=0.18735248222947123\n",
            "Epoch 34\n"
          ]
        },
        {
          "output_type": "stream",
          "name": "stderr",
          "text": [
            "100%|██████████| 6/6 [00:00<00:00, 382.73it/s]\n"
          ]
        },
        {
          "output_type": "stream",
          "name": "stdout",
          "text": [
            "train_loss=0.14876219630241394, eval_loss=0.17737439150611561\n",
            "Epoch 35\n"
          ]
        },
        {
          "output_type": "stream",
          "name": "stderr",
          "text": [
            "100%|██████████| 6/6 [00:00<00:00, 538.74it/s]\n"
          ]
        },
        {
          "output_type": "stream",
          "name": "stdout",
          "text": [
            "train_loss=0.06871284544467926, eval_loss=0.19761620896557966\n",
            "Epoch 36\n"
          ]
        },
        {
          "output_type": "stream",
          "name": "stderr",
          "text": [
            "100%|██████████| 6/6 [00:00<00:00, 536.91it/s]\n"
          ]
        },
        {
          "output_type": "stream",
          "name": "stdout",
          "text": [
            "train_loss=0.17425422370433807, eval_loss=0.1745390420158704\n",
            "Epoch 37\n"
          ]
        },
        {
          "output_type": "stream",
          "name": "stderr",
          "text": [
            "100%|██████████| 6/6 [00:00<00:00, 538.89it/s]\n"
          ]
        },
        {
          "output_type": "stream",
          "name": "stdout",
          "text": [
            "train_loss=0.04241780936717987, eval_loss=0.1848378305633863\n",
            "Epoch 38\n"
          ]
        },
        {
          "output_type": "stream",
          "name": "stderr",
          "text": [
            "100%|██████████| 6/6 [00:00<00:00, 520.59it/s]\n"
          ]
        },
        {
          "output_type": "stream",
          "name": "stdout",
          "text": [
            "train_loss=0.07877369970083237, eval_loss=0.1609697074939807\n",
            "Epoch 39\n"
          ]
        },
        {
          "output_type": "stream",
          "name": "stderr",
          "text": [
            "100%|██████████| 6/6 [00:00<00:00, 500.03it/s]\n"
          ]
        },
        {
          "output_type": "stream",
          "name": "stdout",
          "text": [
            "train_loss=0.08439021557569504, eval_loss=0.16858054821689922\n",
            "Epoch 40\n"
          ]
        },
        {
          "output_type": "stream",
          "name": "stderr",
          "text": [
            "100%|██████████| 6/6 [00:00<00:00, 375.38it/s]"
          ]
        },
        {
          "output_type": "stream",
          "name": "stdout",
          "text": [
            "train_loss=0.09394534677267075, eval_loss=0.16739229733745256"
          ]
        },
        {
          "output_type": "stream",
          "name": "stderr",
          "text": [
            "\n"
          ]
        },
        {
          "output_type": "stream",
          "name": "stdout",
          "text": [
            "\n",
            "Epoch 41\n"
          ]
        },
        {
          "output_type": "stream",
          "name": "stderr",
          "text": [
            "100%|██████████| 6/6 [00:00<00:00, 329.45it/s]\n"
          ]
        },
        {
          "output_type": "stream",
          "name": "stdout",
          "text": [
            "train_loss=0.14459218084812164, eval_loss=0.16430883978803953\n",
            "Epoch 42\n"
          ]
        },
        {
          "output_type": "stream",
          "name": "stderr",
          "text": [
            "100%|██████████| 6/6 [00:00<00:00, 431.72it/s]\n"
          ]
        },
        {
          "output_type": "stream",
          "name": "stdout",
          "text": [
            "train_loss=0.0999724417924881, eval_loss=0.14072961732745168\n",
            "Epoch 43\n"
          ]
        },
        {
          "output_type": "stream",
          "name": "stderr",
          "text": [
            "100%|██████████| 6/6 [00:00<00:00, 504.78it/s]\n"
          ]
        },
        {
          "output_type": "stream",
          "name": "stdout",
          "text": [
            "train_loss=0.1381431370973587, eval_loss=0.16377003490924835\n",
            "Epoch 44\n"
          ]
        },
        {
          "output_type": "stream",
          "name": "stderr",
          "text": [
            "100%|██████████| 6/6 [00:00<00:00, 428.68it/s]\n"
          ]
        },
        {
          "output_type": "stream",
          "name": "stdout",
          "text": [
            "train_loss=0.0512627512216568, eval_loss=0.18234089699884254\n",
            "Epoch 45\n"
          ]
        },
        {
          "output_type": "stream",
          "name": "stderr",
          "text": [
            "100%|██████████| 6/6 [00:00<00:00, 491.94it/s]\n"
          ]
        },
        {
          "output_type": "stream",
          "name": "stdout",
          "text": [
            "train_loss=0.012076150625944138, eval_loss=0.13788197748363018\n",
            "Epoch 46\n"
          ]
        },
        {
          "output_type": "stream",
          "name": "stderr",
          "text": [
            "100%|██████████| 6/6 [00:00<00:00, 528.07it/s]\n"
          ]
        },
        {
          "output_type": "stream",
          "name": "stdout",
          "text": [
            "train_loss=0.129201278090477, eval_loss=0.1508804727345705\n",
            "Epoch 47\n"
          ]
        },
        {
          "output_type": "stream",
          "name": "stderr",
          "text": [
            "100%|██████████| 6/6 [00:00<00:00, 515.34it/s]\n"
          ]
        },
        {
          "output_type": "stream",
          "name": "stdout",
          "text": [
            "train_loss=0.10870211571455002, eval_loss=0.20793517306447026\n",
            "Epoch 48\n"
          ]
        },
        {
          "output_type": "stream",
          "name": "stderr",
          "text": [
            "100%|██████████| 6/6 [00:00<00:00, 543.14it/s]\n"
          ]
        },
        {
          "output_type": "stream",
          "name": "stdout",
          "text": [
            "train_loss=0.04333603382110596, eval_loss=0.1439953713367383\n",
            "Epoch 49\n"
          ]
        },
        {
          "output_type": "stream",
          "name": "stderr",
          "text": [
            "100%|██████████| 6/6 [00:00<00:00, 545.59it/s]\n"
          ]
        },
        {
          "output_type": "stream",
          "name": "stdout",
          "text": [
            "train_loss=0.0952044352889061, eval_loss=0.1513841034223636\n",
            "Epoch 50\n"
          ]
        },
        {
          "output_type": "stream",
          "name": "stderr",
          "text": [
            "100%|██████████| 6/6 [00:00<00:00, 493.18it/s]\n"
          ]
        },
        {
          "output_type": "stream",
          "name": "stdout",
          "text": [
            "train_loss=0.08219540119171143, eval_loss=0.2193407143155734\n",
            "Epoch 51\n"
          ]
        },
        {
          "output_type": "stream",
          "name": "stderr",
          "text": [
            "100%|██████████| 6/6 [00:00<00:00, 440.42it/s]\n"
          ]
        },
        {
          "output_type": "stream",
          "name": "stdout",
          "text": [
            "train_loss=0.10310357809066772, eval_loss=0.14066076278686523\n",
            "Epoch 52\n"
          ]
        },
        {
          "output_type": "stream",
          "name": "stderr",
          "text": [
            "100%|██████████| 6/6 [00:00<00:00, 483.00it/s]\n"
          ]
        },
        {
          "output_type": "stream",
          "name": "stdout",
          "text": [
            "train_loss=0.13145989179611206, eval_loss=0.1928517147898674\n",
            "Epoch 53\n"
          ]
        },
        {
          "output_type": "stream",
          "name": "stderr",
          "text": [
            "100%|██████████| 6/6 [00:00<00:00, 514.99it/s]\n"
          ]
        },
        {
          "output_type": "stream",
          "name": "stdout",
          "text": [
            "train_loss=0.07923197746276855, eval_loss=0.15512137937669954\n",
            "Epoch 54\n"
          ]
        },
        {
          "output_type": "stream",
          "name": "stderr",
          "text": [
            "100%|██████████| 6/6 [00:00<00:00, 463.93it/s]\n"
          ]
        },
        {
          "output_type": "stream",
          "name": "stdout",
          "text": [
            "train_loss=0.07102041691541672, eval_loss=0.17006146721541882\n",
            "Epoch 55\n"
          ]
        },
        {
          "output_type": "stream",
          "name": "stderr",
          "text": [
            "100%|██████████| 6/6 [00:00<00:00, 487.19it/s]\n"
          ]
        },
        {
          "output_type": "stream",
          "name": "stdout",
          "text": [
            "train_loss=0.14749157428741455, eval_loss=0.13215646202055115\n",
            "Epoch 56\n"
          ]
        },
        {
          "output_type": "stream",
          "name": "stderr",
          "text": [
            "100%|██████████| 6/6 [00:00<00:00, 430.46it/s]\n"
          ]
        },
        {
          "output_type": "stream",
          "name": "stdout",
          "text": [
            "train_loss=0.021746212616562843, eval_loss=0.1544017524768909\n",
            "Epoch 57\n"
          ]
        },
        {
          "output_type": "stream",
          "name": "stderr",
          "text": [
            "100%|██████████| 6/6 [00:00<00:00, 477.99it/s]\n"
          ]
        },
        {
          "output_type": "stream",
          "name": "stdout",
          "text": [
            "train_loss=0.01877804845571518, eval_loss=0.18173076833287877\n",
            "Epoch 58\n"
          ]
        },
        {
          "output_type": "stream",
          "name": "stderr",
          "text": [
            "100%|██████████| 6/6 [00:00<00:00, 356.00it/s]\n"
          ]
        },
        {
          "output_type": "stream",
          "name": "stdout",
          "text": [
            "train_loss=0.015736132860183716, eval_loss=0.14005238314469654\n",
            "Epoch 59\n"
          ]
        },
        {
          "output_type": "stream",
          "name": "stderr",
          "text": [
            "100%|██████████| 6/6 [00:00<00:00, 470.32it/s]\n"
          ]
        },
        {
          "output_type": "stream",
          "name": "stdout",
          "text": [
            "train_loss=0.03702063485980034, eval_loss=0.1730415777613719\n",
            "Epoch 60\n"
          ]
        },
        {
          "output_type": "stream",
          "name": "stderr",
          "text": [
            "100%|██████████| 6/6 [00:00<00:00, 480.20it/s]\n"
          ]
        },
        {
          "output_type": "stream",
          "name": "stdout",
          "text": [
            "train_loss=0.08132238686084747, eval_loss=0.184716270926098\n",
            "Epoch 61\n"
          ]
        },
        {
          "output_type": "stream",
          "name": "stderr",
          "text": [
            "100%|██████████| 6/6 [00:00<00:00, 486.91it/s]\n"
          ]
        },
        {
          "output_type": "stream",
          "name": "stdout",
          "text": [
            "train_loss=0.03829716891050339, eval_loss=0.12523837744568783\n",
            "Epoch 62\n"
          ]
        },
        {
          "output_type": "stream",
          "name": "stderr",
          "text": [
            "100%|██████████| 6/6 [00:00<00:00, 559.78it/s]\n"
          ]
        },
        {
          "output_type": "stream",
          "name": "stdout",
          "text": [
            "train_loss=0.04142097383737564, eval_loss=0.13461604124555984\n",
            "Epoch 63\n"
          ]
        },
        {
          "output_type": "stream",
          "name": "stderr",
          "text": [
            "100%|██████████| 6/6 [00:00<00:00, 474.41it/s]\n"
          ]
        },
        {
          "output_type": "stream",
          "name": "stdout",
          "text": [
            "train_loss=0.04140567034482956, eval_loss=0.17816223359356323\n",
            "Epoch 64\n"
          ]
        },
        {
          "output_type": "stream",
          "name": "stderr",
          "text": [
            "100%|██████████| 6/6 [00:00<00:00, 509.79it/s]\n"
          ]
        },
        {
          "output_type": "stream",
          "name": "stdout",
          "text": [
            "train_loss=0.04027410224080086, eval_loss=0.16912528957861167\n",
            "Epoch 65\n"
          ]
        },
        {
          "output_type": "stream",
          "name": "stderr",
          "text": [
            "100%|██████████| 6/6 [00:00<00:00, 427.32it/s]\n"
          ]
        },
        {
          "output_type": "stream",
          "name": "stdout",
          "text": [
            "train_loss=0.012382823042571545, eval_loss=0.15938966341006258\n",
            "Epoch 66\n"
          ]
        },
        {
          "output_type": "stream",
          "name": "stderr",
          "text": [
            "100%|██████████| 6/6 [00:00<00:00, 441.82it/s]\n"
          ]
        },
        {
          "output_type": "stream",
          "name": "stdout",
          "text": [
            "train_loss=0.01855631172657013, eval_loss=0.1681711493680874\n",
            "Epoch 67\n"
          ]
        },
        {
          "output_type": "stream",
          "name": "stderr",
          "text": [
            "100%|██████████| 6/6 [00:00<00:00, 461.99it/s]\n"
          ]
        },
        {
          "output_type": "stream",
          "name": "stdout",
          "text": [
            "train_loss=0.045672912150621414, eval_loss=0.18166502146050334\n",
            "Epoch 68\n"
          ]
        },
        {
          "output_type": "stream",
          "name": "stderr",
          "text": [
            "100%|██████████| 6/6 [00:00<00:00, 430.87it/s]\n"
          ]
        },
        {
          "output_type": "stream",
          "name": "stdout",
          "text": [
            "train_loss=0.038470830768346786, eval_loss=0.13686283833036822\n",
            "Epoch 69\n"
          ]
        },
        {
          "output_type": "stream",
          "name": "stderr",
          "text": [
            "100%|██████████| 6/6 [00:00<00:00, 498.06it/s]\n"
          ]
        },
        {
          "output_type": "stream",
          "name": "stdout",
          "text": [
            "train_loss=0.06582798063755035, eval_loss=0.12795799101392427\n",
            "Epoch 70\n"
          ]
        },
        {
          "output_type": "stream",
          "name": "stderr",
          "text": [
            "100%|██████████| 6/6 [00:00<00:00, 465.86it/s]\n"
          ]
        },
        {
          "output_type": "stream",
          "name": "stdout",
          "text": [
            "train_loss=0.14673715829849243, eval_loss=0.1844643373042345\n",
            "Epoch 71\n"
          ]
        },
        {
          "output_type": "stream",
          "name": "stderr",
          "text": [
            "100%|██████████| 6/6 [00:00<00:00, 481.85it/s]\n"
          ]
        },
        {
          "output_type": "stream",
          "name": "stdout",
          "text": [
            "train_loss=0.08046389371156693, eval_loss=0.1324491628135244\n",
            "Epoch 72\n"
          ]
        },
        {
          "output_type": "stream",
          "name": "stderr",
          "text": [
            "100%|██████████| 6/6 [00:00<00:00, 450.84it/s]\n"
          ]
        },
        {
          "output_type": "stream",
          "name": "stdout",
          "text": [
            "train_loss=0.09639064967632294, eval_loss=0.1788532116139928\n",
            "Epoch 73\n"
          ]
        },
        {
          "output_type": "stream",
          "name": "stderr",
          "text": [
            "100%|██████████| 6/6 [00:00<00:00, 447.54it/s]\n"
          ]
        },
        {
          "output_type": "stream",
          "name": "stdout",
          "text": [
            "train_loss=0.055694594979286194, eval_loss=0.1799093394850691\n",
            "Epoch 74\n"
          ]
        },
        {
          "output_type": "stream",
          "name": "stderr",
          "text": [
            "100%|██████████| 6/6 [00:00<00:00, 488.61it/s]\n"
          ]
        },
        {
          "output_type": "stream",
          "name": "stdout",
          "text": [
            "train_loss=0.010401144623756409, eval_loss=0.14332509071876606\n",
            "Epoch 75\n"
          ]
        },
        {
          "output_type": "stream",
          "name": "stderr",
          "text": [
            "100%|██████████| 6/6 [00:00<00:00, 498.57it/s]\n"
          ]
        },
        {
          "output_type": "stream",
          "name": "stdout",
          "text": [
            "train_loss=0.09772881120443344, eval_loss=0.13734886391709247\n",
            "Epoch 76\n"
          ]
        },
        {
          "output_type": "stream",
          "name": "stderr",
          "text": [
            "100%|██████████| 6/6 [00:00<00:00, 482.37it/s]\n"
          ]
        },
        {
          "output_type": "stream",
          "name": "stdout",
          "text": [
            "train_loss=0.03261839970946312, eval_loss=0.1548610838750998\n",
            "Epoch 77\n"
          ]
        },
        {
          "output_type": "stream",
          "name": "stderr",
          "text": [
            "100%|██████████| 6/6 [00:00<00:00, 389.13it/s]\n"
          ]
        },
        {
          "output_type": "stream",
          "name": "stdout",
          "text": [
            "train_loss=0.030308235436677933, eval_loss=0.16124070746203262\n",
            "Epoch 78\n"
          ]
        },
        {
          "output_type": "stream",
          "name": "stderr",
          "text": [
            "100%|██████████| 6/6 [00:00<00:00, 462.98it/s]\n"
          ]
        },
        {
          "output_type": "stream",
          "name": "stdout",
          "text": [
            "train_loss=0.04182940721511841, eval_loss=0.15725090680643916\n",
            "Epoch 79\n"
          ]
        },
        {
          "output_type": "stream",
          "name": "stderr",
          "text": [
            "100%|██████████| 6/6 [00:00<00:00, 441.91it/s]\n"
          ]
        },
        {
          "output_type": "stream",
          "name": "stdout",
          "text": [
            "train_loss=0.06139617785811424, eval_loss=0.17704839911311865\n",
            "Epoch 80\n"
          ]
        },
        {
          "output_type": "stream",
          "name": "stderr",
          "text": [
            "100%|██████████| 6/6 [00:00<00:00, 405.53it/s]\n"
          ]
        },
        {
          "output_type": "stream",
          "name": "stdout",
          "text": [
            "train_loss=0.013417880982160568, eval_loss=0.1845324613774816\n",
            "Epoch 81\n"
          ]
        },
        {
          "output_type": "stream",
          "name": "stderr",
          "text": [
            "100%|██████████| 6/6 [00:00<00:00, 479.86it/s]\n"
          ]
        },
        {
          "output_type": "stream",
          "name": "stdout",
          "text": [
            "train_loss=0.019377099350094795, eval_loss=0.15966622127840915\n",
            "Epoch 82\n"
          ]
        },
        {
          "output_type": "stream",
          "name": "stderr",
          "text": [
            "100%|██████████| 6/6 [00:00<00:00, 365.54it/s]\n"
          ]
        },
        {
          "output_type": "stream",
          "name": "stdout",
          "text": [
            "train_loss=0.019489800557494164, eval_loss=0.16019324663405618\n",
            "Epoch 83\n"
          ]
        },
        {
          "output_type": "stream",
          "name": "stderr",
          "text": [
            "100%|██████████| 6/6 [00:00<00:00, 453.50it/s]\n"
          ]
        },
        {
          "output_type": "stream",
          "name": "stdout",
          "text": [
            "train_loss=0.02901817113161087, eval_loss=0.18825902199993533\n",
            "Epoch 84\n"
          ]
        },
        {
          "output_type": "stream",
          "name": "stderr",
          "text": [
            "100%|██████████| 6/6 [00:00<00:00, 474.73it/s]\n"
          ]
        },
        {
          "output_type": "stream",
          "name": "stdout",
          "text": [
            "train_loss=0.018335502594709396, eval_loss=0.14823028057192764\n",
            "Epoch 85\n"
          ]
        },
        {
          "output_type": "stream",
          "name": "stderr",
          "text": [
            "100%|██████████| 6/6 [00:00<00:00, 470.27it/s]\n"
          ]
        },
        {
          "output_type": "stream",
          "name": "stdout",
          "text": [
            "train_loss=0.024041036143898964, eval_loss=0.17118715401738882\n",
            "Epoch 86\n"
          ]
        },
        {
          "output_type": "stream",
          "name": "stderr",
          "text": [
            "100%|██████████| 6/6 [00:00<00:00, 466.01it/s]\n"
          ]
        },
        {
          "output_type": "stream",
          "name": "stdout",
          "text": [
            "train_loss=0.007395185064524412, eval_loss=0.1506967207727333\n",
            "Epoch 87\n"
          ]
        },
        {
          "output_type": "stream",
          "name": "stderr",
          "text": [
            "100%|██████████| 6/6 [00:00<00:00, 397.26it/s]\n"
          ]
        },
        {
          "output_type": "stream",
          "name": "stdout",
          "text": [
            "train_loss=0.012657131999731064, eval_loss=0.20635114559748519\n",
            "Epoch 88\n"
          ]
        },
        {
          "output_type": "stream",
          "name": "stderr",
          "text": [
            "100%|██████████| 6/6 [00:00<00:00, 461.56it/s]\n"
          ]
        },
        {
          "output_type": "stream",
          "name": "stdout",
          "text": [
            "train_loss=0.022287268191576004, eval_loss=0.1748092098472019\n",
            "Epoch 89\n"
          ]
        },
        {
          "output_type": "stream",
          "name": "stderr",
          "text": [
            "100%|██████████| 6/6 [00:00<00:00, 463.08it/s]\n"
          ]
        },
        {
          "output_type": "stream",
          "name": "stdout",
          "text": [
            "train_loss=0.01526022981852293, eval_loss=0.08253611500064531\n",
            "Epoch 90\n"
          ]
        },
        {
          "output_type": "stream",
          "name": "stderr",
          "text": [
            "100%|██████████| 6/6 [00:00<00:00, 357.15it/s]\n"
          ]
        },
        {
          "output_type": "stream",
          "name": "stdout",
          "text": [
            "train_loss=0.016085322946310043, eval_loss=0.10744796336318056\n",
            "Epoch 91\n"
          ]
        },
        {
          "output_type": "stream",
          "name": "stderr",
          "text": [
            "100%|██████████| 6/6 [00:00<00:00, 311.76it/s]\n"
          ]
        },
        {
          "output_type": "stream",
          "name": "stdout",
          "text": [
            "train_loss=0.08604583889245987, eval_loss=0.20523265190422535\n",
            "Epoch 92\n"
          ]
        },
        {
          "output_type": "stream",
          "name": "stderr",
          "text": [
            "100%|██████████| 6/6 [00:00<00:00, 286.22it/s]\n"
          ]
        },
        {
          "output_type": "stream",
          "name": "stdout",
          "text": [
            "train_loss=0.03426757827401161, eval_loss=0.15075700978438059\n",
            "Epoch 93\n"
          ]
        },
        {
          "output_type": "stream",
          "name": "stderr",
          "text": [
            "100%|██████████| 6/6 [00:00<00:00, 426.91it/s]\n"
          ]
        },
        {
          "output_type": "stream",
          "name": "stdout",
          "text": [
            "train_loss=0.03369913622736931, eval_loss=0.1704843077265347\n",
            "Epoch 94\n"
          ]
        },
        {
          "output_type": "stream",
          "name": "stderr",
          "text": [
            "100%|██████████| 6/6 [00:00<00:00, 364.85it/s]\n"
          ]
        },
        {
          "output_type": "stream",
          "name": "stdout",
          "text": [
            "train_loss=0.036706019192934036, eval_loss=0.21985420848553383\n",
            "Epoch 95\n"
          ]
        },
        {
          "output_type": "stream",
          "name": "stderr",
          "text": [
            "100%|██████████| 6/6 [00:00<00:00, 387.40it/s]\n"
          ]
        },
        {
          "output_type": "stream",
          "name": "stdout",
          "text": [
            "train_loss=0.041352529078722, eval_loss=0.18190667017673454\n",
            "Epoch 96\n"
          ]
        },
        {
          "output_type": "stream",
          "name": "stderr",
          "text": [
            "100%|██████████| 6/6 [00:00<00:00, 424.37it/s]\n"
          ]
        },
        {
          "output_type": "stream",
          "name": "stdout",
          "text": [
            "train_loss=0.0367666557431221, eval_loss=0.17381884297356007\n",
            "Epoch 97\n"
          ]
        },
        {
          "output_type": "stream",
          "name": "stderr",
          "text": [
            "100%|██████████| 6/6 [00:00<00:00, 463.51it/s]\n"
          ]
        },
        {
          "output_type": "stream",
          "name": "stdout",
          "text": [
            "train_loss=0.03559795394539833, eval_loss=0.20853568225478133\n",
            "Epoch 98\n"
          ]
        },
        {
          "output_type": "stream",
          "name": "stderr",
          "text": [
            "100%|██████████| 6/6 [00:00<00:00, 368.10it/s]\n"
          ]
        },
        {
          "output_type": "stream",
          "name": "stdout",
          "text": [
            "train_loss=0.0863896831870079, eval_loss=0.20358683619027335\n",
            "Epoch 99\n"
          ]
        },
        {
          "output_type": "stream",
          "name": "stderr",
          "text": [
            "100%|██████████| 6/6 [00:00<00:00, 467.94it/s]\n"
          ]
        },
        {
          "output_type": "stream",
          "name": "stdout",
          "text": [
            "train_loss=0.013421072624623775, eval_loss=0.1702089048922062\n",
            "Epoch 100\n"
          ]
        },
        {
          "output_type": "stream",
          "name": "stderr",
          "text": [
            "100%|██████████| 6/6 [00:00<00:00, 468.79it/s]\n"
          ]
        },
        {
          "output_type": "stream",
          "name": "stdout",
          "text": [
            "train_loss=0.00042473713983781636, eval_loss=0.19818038462350768\n",
            "Epoch 101\n"
          ]
        },
        {
          "output_type": "stream",
          "name": "stderr",
          "text": [
            "100%|██████████| 6/6 [00:00<00:00, 407.34it/s]\n"
          ]
        },
        {
          "output_type": "stream",
          "name": "stdout",
          "text": [
            "train_loss=0.001974329585209489, eval_loss=0.1762608167094489\n",
            "Epoch 102\n"
          ]
        },
        {
          "output_type": "stream",
          "name": "stderr",
          "text": [
            "100%|██████████| 6/6 [00:00<00:00, 428.77it/s]\n"
          ]
        },
        {
          "output_type": "stream",
          "name": "stdout",
          "text": [
            "train_loss=0.049881577491760254, eval_loss=0.15364081187484163\n",
            "Epoch 103\n"
          ]
        },
        {
          "output_type": "stream",
          "name": "stderr",
          "text": [
            "100%|██████████| 6/6 [00:00<00:00, 405.22it/s]\n"
          ]
        },
        {
          "output_type": "stream",
          "name": "stdout",
          "text": [
            "train_loss=0.06928111612796783, eval_loss=0.24093415588140488\n",
            "Epoch 104\n"
          ]
        },
        {
          "output_type": "stream",
          "name": "stderr",
          "text": [
            "100%|██████████| 6/6 [00:00<00:00, 480.14it/s]\n"
          ]
        },
        {
          "output_type": "stream",
          "name": "stdout",
          "text": [
            "train_loss=0.09502916038036346, eval_loss=0.18089723328982169\n",
            "Epoch 105\n"
          ]
        },
        {
          "output_type": "stream",
          "name": "stderr",
          "text": [
            "100%|██████████| 6/6 [00:00<00:00, 446.37it/s]\n"
          ]
        },
        {
          "output_type": "stream",
          "name": "stdout",
          "text": [
            "train_loss=0.04235367849469185, eval_loss=0.1517650152090937\n",
            "Epoch 106\n"
          ]
        },
        {
          "output_type": "stream",
          "name": "stderr",
          "text": [
            "100%|██████████| 6/6 [00:00<00:00, 441.88it/s]\n"
          ]
        },
        {
          "output_type": "stream",
          "name": "stdout",
          "text": [
            "train_loss=0.007399662863463163, eval_loss=0.2520640677345606\n",
            "Epoch 107\n"
          ]
        },
        {
          "output_type": "stream",
          "name": "stderr",
          "text": [
            "100%|██████████| 6/6 [00:00<00:00, 463.24it/s]\n"
          ]
        },
        {
          "output_type": "stream",
          "name": "stdout",
          "text": [
            "train_loss=0.01979328691959381, eval_loss=0.20304740522988143\n",
            "Epoch 108\n"
          ]
        },
        {
          "output_type": "stream",
          "name": "stderr",
          "text": [
            "100%|██████████| 6/6 [00:00<00:00, 439.20it/s]\n"
          ]
        },
        {
          "output_type": "stream",
          "name": "stdout",
          "text": [
            "train_loss=0.0006723920814692974, eval_loss=0.17772429743005583\n",
            "Epoch 109\n"
          ]
        },
        {
          "output_type": "stream",
          "name": "stderr",
          "text": [
            "100%|██████████| 6/6 [00:00<00:00, 456.76it/s]\n"
          ]
        },
        {
          "output_type": "stream",
          "name": "stdout",
          "text": [
            "train_loss=0.034746818244457245, eval_loss=0.2462484093072514\n",
            "Epoch 110\n"
          ]
        },
        {
          "output_type": "stream",
          "name": "stderr",
          "text": [
            "100%|██████████| 6/6 [00:00<00:00, 441.49it/s]\n"
          ]
        },
        {
          "output_type": "stream",
          "name": "stdout",
          "text": [
            "train_loss=0.01309821754693985, eval_loss=0.16878943735112747\n",
            "Epoch 111\n"
          ]
        },
        {
          "output_type": "stream",
          "name": "stderr",
          "text": [
            "100%|██████████| 6/6 [00:00<00:00, 386.36it/s]\n"
          ]
        },
        {
          "output_type": "stream",
          "name": "stdout",
          "text": [
            "train_loss=0.07891824096441269, eval_loss=0.1594804752579269\n",
            "Epoch 112\n"
          ]
        },
        {
          "output_type": "stream",
          "name": "stderr",
          "text": [
            "100%|██████████| 6/6 [00:00<00:00, 369.79it/s]\n"
          ]
        },
        {
          "output_type": "stream",
          "name": "stdout",
          "text": [
            "train_loss=0.038817569613456726, eval_loss=0.21296273870393634\n",
            "Epoch 113\n"
          ]
        },
        {
          "output_type": "stream",
          "name": "stderr",
          "text": [
            "100%|██████████| 6/6 [00:00<00:00, 442.77it/s]\n"
          ]
        },
        {
          "output_type": "stream",
          "name": "stdout",
          "text": [
            "train_loss=0.053624942898750305, eval_loss=0.22249093019248295\n",
            "Epoch 114\n"
          ]
        },
        {
          "output_type": "stream",
          "name": "stderr",
          "text": [
            "100%|██████████| 6/6 [00:00<00:00, 453.98it/s]\n"
          ]
        },
        {
          "output_type": "stream",
          "name": "stdout",
          "text": [
            "train_loss=0.004516646731644869, eval_loss=0.15376102551817894\n",
            "Epoch 115\n"
          ]
        },
        {
          "output_type": "stream",
          "name": "stderr",
          "text": [
            "100%|██████████| 6/6 [00:00<00:00, 393.48it/s]\n"
          ]
        },
        {
          "output_type": "stream",
          "name": "stdout",
          "text": [
            "train_loss=0.02680881693959236, eval_loss=0.1797195767285302\n",
            "Epoch 116\n"
          ]
        },
        {
          "output_type": "stream",
          "name": "stderr",
          "text": [
            "100%|██████████| 6/6 [00:00<00:00, 414.47it/s]\n"
          ]
        },
        {
          "output_type": "stream",
          "name": "stdout",
          "text": [
            "train_loss=0.00773759838193655, eval_loss=0.24054691859055313\n",
            "Epoch 117\n"
          ]
        },
        {
          "output_type": "stream",
          "name": "stderr",
          "text": [
            "100%|██████████| 6/6 [00:00<00:00, 429.66it/s]\n"
          ]
        },
        {
          "output_type": "stream",
          "name": "stdout",
          "text": [
            "train_loss=0.019035564735531807, eval_loss=0.1968627599999309\n",
            "Epoch 118\n"
          ]
        },
        {
          "output_type": "stream",
          "name": "stderr",
          "text": [
            "100%|██████████| 6/6 [00:00<00:00, 384.94it/s]\n"
          ]
        },
        {
          "output_type": "stream",
          "name": "stdout",
          "text": [
            "train_loss=0.03329707682132721, eval_loss=0.19019937848982713\n",
            "Epoch 119\n"
          ]
        },
        {
          "output_type": "stream",
          "name": "stderr",
          "text": [
            "100%|██████████| 6/6 [00:00<00:00, 423.72it/s]\n"
          ]
        },
        {
          "output_type": "stream",
          "name": "stdout",
          "text": [
            "train_loss=0.006780736614018679, eval_loss=0.2168731758526216\n",
            "Epoch 120\n"
          ]
        },
        {
          "output_type": "stream",
          "name": "stderr",
          "text": [
            "100%|██████████| 6/6 [00:00<00:00, 425.14it/s]\n"
          ]
        },
        {
          "output_type": "stream",
          "name": "stdout",
          "text": [
            "train_loss=0.00045822220272384584, eval_loss=0.15971090722208223\n",
            "Epoch 121\n"
          ]
        },
        {
          "output_type": "stream",
          "name": "stderr",
          "text": [
            "100%|██████████| 6/6 [00:00<00:00, 445.60it/s]\n"
          ]
        },
        {
          "output_type": "stream",
          "name": "stdout",
          "text": [
            "train_loss=0.004078234545886517, eval_loss=0.25925194813559455\n",
            "Epoch 122\n"
          ]
        },
        {
          "output_type": "stream",
          "name": "stderr",
          "text": [
            "100%|██████████| 6/6 [00:00<00:00, 414.19it/s]\n"
          ]
        },
        {
          "output_type": "stream",
          "name": "stdout",
          "text": [
            "train_loss=0.0022876074071973562, eval_loss=0.21497301493460935\n",
            "Epoch 123\n"
          ]
        },
        {
          "output_type": "stream",
          "name": "stderr",
          "text": [
            "100%|██████████| 6/6 [00:00<00:00, 443.54it/s]\n"
          ]
        },
        {
          "output_type": "stream",
          "name": "stdout",
          "text": [
            "train_loss=0.0029136743396520615, eval_loss=0.15057289906932664\n",
            "Epoch 124\n"
          ]
        },
        {
          "output_type": "stream",
          "name": "stderr",
          "text": [
            "100%|██████████| 6/6 [00:00<00:00, 451.11it/s]\n"
          ]
        },
        {
          "output_type": "stream",
          "name": "stdout",
          "text": [
            "train_loss=0.10473541915416718, eval_loss=0.18230268987827\n",
            "Epoch 125\n"
          ]
        },
        {
          "output_type": "stream",
          "name": "stderr",
          "text": [
            "100%|██████████| 6/6 [00:00<00:00, 421.47it/s]\n"
          ]
        },
        {
          "output_type": "stream",
          "name": "stdout",
          "text": [
            "train_loss=0.002620518207550049, eval_loss=0.26360311811246595\n",
            "Epoch 126\n"
          ]
        },
        {
          "output_type": "stream",
          "name": "stderr",
          "text": [
            "100%|██████████| 6/6 [00:00<00:00, 436.27it/s]\n"
          ]
        },
        {
          "output_type": "stream",
          "name": "stdout",
          "text": [
            "train_loss=0.014010801911354065, eval_loss=0.1878202120618274\n",
            "Epoch 127\n"
          ]
        },
        {
          "output_type": "stream",
          "name": "stderr",
          "text": [
            "100%|██████████| 6/6 [00:00<00:00, 397.17it/s]\n"
          ]
        },
        {
          "output_type": "stream",
          "name": "stdout",
          "text": [
            "train_loss=0.002487814286723733, eval_loss=0.20322097729270658\n",
            "Epoch 128\n"
          ]
        },
        {
          "output_type": "stream",
          "name": "stderr",
          "text": [
            "100%|██████████| 6/6 [00:00<00:00, 394.91it/s]"
          ]
        },
        {
          "output_type": "stream",
          "name": "stdout",
          "text": [
            "train_loss=0.013935196213424206, eval_loss=0.28226865905647475\n"
          ]
        },
        {
          "output_type": "stream",
          "name": "stderr",
          "text": [
            "\n"
          ]
        }
      ],
      "source": [
        "for i in range(1, n_epochs + 1):\n",
        "    print(f'Epoch {i}')\n",
        "    for x, y in tqdm(train_loader):\n",
        "        logits = model(x)\n",
        "        loss = loss_func(logits, y)\n",
        "        optimizer.zero_grad()\n",
        "        loss.backward()\n",
        "        optimizer.step()\n",
        "    eval_loss = compute_validation_loss(model, valid_loader, loss_func)\n",
        "    print(f'train_loss={loss.item()}, eval_loss={eval_loss}')"
      ]
    },
    {
      "cell_type": "code",
      "source": [],
      "metadata": {
        "id": "yoHB16S9Wyix"
      },
      "id": "yoHB16S9Wyix",
      "execution_count": null,
      "outputs": []
    }
  ],
  "metadata": {
    "kernelspec": {
      "display_name": "Python 3 (ipykernel)",
      "language": "python",
      "name": "python3"
    },
    "language_info": {
      "codemirror_mode": {
        "name": "ipython",
        "version": 3
      },
      "file_extension": ".py",
      "mimetype": "text/x-python",
      "name": "python",
      "nbconvert_exporter": "python",
      "pygments_lexer": "ipython3",
      "version": "3.11.3"
    },
    "colab": {
      "provenance": []
    }
  },
  "nbformat": 4,
  "nbformat_minor": 5
}